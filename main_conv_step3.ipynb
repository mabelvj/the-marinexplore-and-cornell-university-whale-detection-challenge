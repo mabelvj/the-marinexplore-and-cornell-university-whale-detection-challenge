{
 "cells": [
  {
   "cell_type": "markdown",
   "metadata": {
    "colab_type": "text",
    "id": "4embtkV0pNxM"
   },
   "source": [
    "Deep Learning\n",
    "=============\n",
    "\n",
    "Assignment 4\n",
    "------------\n",
    "\n",
    "Previously in `2_fullyconnected.ipynb` and `3_regularization.ipynb`, we trained fully connected networks to classify [notMNIST](http://yaroslavvb.blogspot.com/2011/09/notmnist-dataset.html) characters.\n",
    "\n",
    "The goal of this assignment is make the neural network convolutional."
   ]
  },
  {
   "cell_type": "code",
   "execution_count": 8,
   "metadata": {
    "cellView": "both",
    "colab": {
     "autoexec": {
      "startup": false,
      "wait_interval": 0
     }
    },
    "colab_type": "code",
    "collapsed": false,
    "id": "tm2CQN_Cpwj0"
   },
   "outputs": [],
   "source": [
    "# These are all the modules we'll be using later. Make sure you can import them\n",
    "# before proceeding further.\n",
    "from __future__ import print_function\n",
    "import numpy as np\n",
    "import tensorflow as tf\n",
    "from six.moves import cPickle as pickle\n",
    "from six.moves import range\n",
    "from load_and_generate import *"
   ]
  },
  {
   "cell_type": "code",
   "execution_count": 9,
   "metadata": {
    "cellView": "both",
    "colab": {
     "autoexec": {
      "startup": false,
      "wait_interval": 0
     },
     "output_extras": [
      {
       "item_id": 1
      }
     ]
    },
    "colab_type": "code",
    "collapsed": false,
    "executionInfo": {
     "elapsed": 11948,
     "status": "ok",
     "timestamp": 1446658914837,
     "user": {
      "color": "",
      "displayName": "",
      "isAnonymous": false,
      "isMe": true,
      "permissionId": "",
      "photoUrl": "",
      "sessionId": "0",
      "userId": ""
     },
     "user_tz": 480
    },
    "id": "y3-cj1bpmuxc",
    "outputId": "016b1a51-0290-4b08-efdb-8c95ffc3cd01"
   },
   "outputs": [
    {
     "name": "stdout",
     "output_type": "stream",
     "text": [
      "Training set (8432, 32, 32) (8432,)\n",
      "Validation set (2811, 32, 32) (2811,)\n",
      "Test set (2811, 32, 32) (2811,)\n"
     ]
    }
   ],
   "source": [
    "pickle_file = 'exploration.pickle'\n",
    "\n",
    "with open(pickle_file, 'rb') as f:\n",
    "  save = pickle.load(f)\n",
    "  train_dataset = save['train_dataset']\n",
    "  train_labels = save['train_labels']\n",
    "  valid_dataset = save['valid_dataset']\n",
    "  valid_labels = save['valid_labels']\n",
    "  test_dataset = save['test_dataset']\n",
    "  test_labels = save['test_labels']\n",
    "  del save  # hint to help gc free up memory\n",
    "  print('Training set', train_dataset.shape, train_labels.shape)\n",
    "  print('Validation set', valid_dataset.shape, valid_labels.shape)\n",
    "  print('Test set', test_dataset.shape, test_labels.shape)"
   ]
  },
  {
   "cell_type": "markdown",
   "metadata": {
    "colab_type": "text",
    "id": "L7aHrm6nGDMB"
   },
   "source": [
    "Reformat into a TensorFlow-friendly shape:\n",
    "- convolutions need the image data formatted as a cube (width by height by #channels)\n",
    "- labels as float 1-hot encodings."
   ]
  },
  {
   "cell_type": "code",
   "execution_count": 10,
   "metadata": {
    "cellView": "both",
    "colab": {
     "autoexec": {
      "startup": false,
      "wait_interval": 0
     },
     "output_extras": [
      {
       "item_id": 1
      }
     ]
    },
    "colab_type": "code",
    "collapsed": false,
    "executionInfo": {
     "elapsed": 11952,
     "status": "ok",
     "timestamp": 1446658914857,
     "user": {
      "color": "",
      "displayName": "",
      "isAnonymous": false,
      "isMe": true,
      "permissionId": "",
      "photoUrl": "",
      "sessionId": "0",
      "userId": ""
     },
     "user_tz": 480
    },
    "id": "IRSyYiIIGIzS",
    "outputId": "650a208c-8359-4852-f4f5-8bf10e80ef6c"
   },
   "outputs": [
    {
     "name": "stdout",
     "output_type": "stream",
     "text": [
      "Training set (8432, 32, 32, 1) (8432, 2)\n",
      "Validation set (2811, 32, 32, 1) (2811, 2)\n",
      "Test set (2811, 32, 32, 1) (2811, 2)\n"
     ]
    }
   ],
   "source": [
    "image_width = 32\n",
    "image_height = 32\n",
    "\n",
    "num_labels = 2\n",
    "num_channels = 1 # grayscale\n",
    "\n",
    "import numpy as np\n",
    "\n",
    "def reformat(dataset, labels):\n",
    "  dataset = dataset.reshape(\n",
    "    (-1, image_height, image_width, num_channels)).astype(np.float32)\n",
    "  labels = (np.arange(num_labels) == labels[:,None]).astype(np.float32)\n",
    "  return dataset, labels\n",
    "train_dataset, train_labels = reformat(train_dataset, train_labels)\n",
    "valid_dataset, valid_labels = reformat(valid_dataset, valid_labels)\n",
    "test_dataset, test_labels = reformat(test_dataset, test_labels)\n",
    "print('Training set', train_dataset.shape, train_labels.shape)\n",
    "print('Validation set', valid_dataset.shape, valid_labels.shape)\n",
    "print('Test set', test_dataset.shape, test_labels.shape)"
   ]
  },
  {
   "cell_type": "code",
   "execution_count": 11,
   "metadata": {
    "cellView": "both",
    "colab": {
     "autoexec": {
      "startup": false,
      "wait_interval": 0
     }
    },
    "colab_type": "code",
    "collapsed": true,
    "id": "AgQDIREv02p1"
   },
   "outputs": [],
   "source": [
    "def accuracy(predictions, labels):\n",
    "  return (100.0 * np.sum(np.argmax(predictions, 1) == np.argmax(labels, 1))\n",
    "          / predictions.shape[0])"
   ]
  },
  {
   "cell_type": "markdown",
   "metadata": {
    "colab_type": "text",
    "id": "5rhgjmROXu2O"
   },
   "source": [
    "Let's build a small network with two convolutional layers, followed by one fully connected layer. Convolutional networks are more expensive computationally, so we'll limit its depth and number of fully connected nodes."
   ]
  },
  {
   "cell_type": "code",
   "execution_count": null,
   "metadata": {
    "cellView": "both",
    "colab": {
     "autoexec": {
      "startup": false,
      "wait_interval": 0
     }
    },
    "colab_type": "code",
    "collapsed": false,
    "id": "IZYv70SvvOan"
   },
   "outputs": [
    {
     "name": "stdout",
     "output_type": "stream",
     "text": [
      "batch size:4 \n",
      "\n",
      "num_steps:2108\n",
      "[4, 16, 16, 6]\n",
      "[4, 8, 8, 6]\n",
      "[4, 4, 4, 16]\n",
      "[4, 2, 2, 16]\n",
      "[2811, 16, 16, 6]\n",
      "[2811, 8, 8, 6]\n",
      "[2811, 4, 4, 16]\n",
      "[2811, 2, 2, 16]\n",
      "[2811, 16, 16, 6]\n",
      "[2811, 8, 8, 6]\n",
      "[2811, 4, 4, 16]\n",
      "[2811, 2, 2, 16]\n",
      "Initialized\n",
      "Minibatch loss at step 0: 2.571679\n",
      "Minibatch accuracy: 50.0%\n",
      "Validation accuracy: 50.0%\n",
      "AUC: 0.501\n",
      ".................\n"
     ]
    }
   ],
   "source": [
    "#Lenet 5 implementation\n",
    "#http://www.pyimagesearch.com/2016/08/01/lenet-convolutional-neural-network-in-python/\n",
    "\n",
    "\n",
    "batch_size_array = [4, 10, 15]\n",
    "lr = [2e-3, 1e-3, 5e-4] #alpha\n",
    "beta = [2e-3, 5e-3, 1e-3]\n",
    "#beta = [0, 0, 0]\n",
    "valid_accuracy_array = []\n",
    "valid_auc_array = []\n",
    "test_accuracy_array = []\n",
    "test_auc_array = []\n",
    "pred_step_array = []\n",
    "from sklearn.metrics import roc_auc_score\n",
    "\n",
    "for i, batch_size in enumerate(batch_size_array):\n",
    "        \n",
    "    print (\"batch size:%d \\n\"%batch_size)\n",
    "    num_steps = train_dataset.shape[0] // batch_size\n",
    "    print (\"num_steps:%d\" %num_steps)\n",
    "    #batch_size = 10\n",
    "    num_channels = 1\n",
    "    stride = 2 #1 very common\n",
    "\n",
    "\n",
    "    depth_1 = 6\n",
    "    depth_2 = 6\n",
    "    depth_3 = 16\n",
    "    depth_4 = 16\n",
    "    depth_5 = 120\n",
    "\n",
    "    patch_size_1 = 5\n",
    "    patch_size_2 = 2\n",
    "    patch_size_3 = 6\n",
    "    patch_size_4 = 2\n",
    "    patch_size_5 = 6\n",
    "    \n",
    "    valid_accuracy = []\n",
    "    valid_auc = []\n",
    "    test_accuracy = []\n",
    "    test_auc = []\n",
    "    pred_step = []\n",
    "\n",
    "\n",
    "    graph = tf.Graph()\n",
    "\n",
    "    with graph.as_default():\n",
    "\n",
    "      # Input data.\n",
    "      tf_train_dataset = tf.placeholder(\n",
    "        tf.float32, shape=(batch_size, image_height, image_width, num_channels))\n",
    "      tf_train_labels = tf.placeholder(tf.float32, shape=(batch_size, num_labels))\n",
    "      tf_valid_dataset = tf.constant(valid_dataset)\n",
    "      tf_test_dataset = tf.constant(test_dataset)\n",
    "\n",
    "      # Variables.\n",
    "      layer1_weights = tf.Variable(tf.truncated_normal(\n",
    "          [patch_size_1, patch_size_1, num_channels, 6], stddev=0.1))\n",
    "      layer1_biases = tf.Variable(tf.zeros([6]))\n",
    "      layer3_weights = tf.Variable(tf.truncated_normal(\n",
    "          [patch_size_3, patch_size_3, depth_2, depth_3], stddev=0.1))\n",
    "      layer3_biases = tf.Variable(tf.constant(1.0, shape=[depth_3]))\n",
    "\n",
    "      #layer5_weights = tf.Variable(tf.truncated_normal(\n",
    "      #    [patch_size_5, patch_size_5, depth_4, depth_5], stddev=0.1)) #no sé si es depth_3 o depth_4 el primer argumento\n",
    "      #layer5_biases = tf.Variable(tf.constant(1.0, shape=[depth_5]))\n",
    "\n",
    "      layer5_weights = tf.Variable(tf.truncated_normal(\n",
    "          [(image_height // ( patch_size_2*patch_size_4*stride*stride)) * (image_width // (patch_size_2*patch_size_4*stride*stride)) * depth_3, depth_5], stddev=0.1)) #modified for variable height and width  \n",
    "      #print (layer3_weights.get_shape().as_list())\n",
    "      layer5_biases = tf.Variable(tf.constant(1.0, shape=[depth_5]))\n",
    "      layer6_weights = tf.Variable(tf.truncated_normal(\n",
    "          [depth_5, num_labels], stddev=0.1))\n",
    "      layer6_biases = tf.Variable(tf.constant(1.0, shape=[num_labels]))\n",
    "\n",
    "\n",
    "      # Model.\n",
    "      def model(data):\n",
    "        conv1 = tf.nn.conv2d(data, layer1_weights, [1, stride, stride, 1], padding='SAME')\n",
    "        print (conv1.get_shape().as_list())\n",
    "        hidden1 = tf.nn.relu(conv1 + layer1_biases)\n",
    "        pool2 = tf.nn.max_pool(hidden1, ksize=[1, patch_size_2, patch_size_2, 1], strides=[1, patch_size_2, patch_size_2, 1], \n",
    "                               padding='VALID')\n",
    "        print (pool2.get_shape().as_list())\n",
    "\n",
    "        conv3 = tf.nn.conv2d(pool2, layer3_weights, [1, stride, stride, 1], padding='SAME')\n",
    "        print (conv3.get_shape().as_list())\n",
    "        hidden3 = tf.nn.relu(conv3 + layer3_biases)\n",
    "        pool4 = tf.nn.max_pool(hidden3, ksize=[1,  patch_size_4, patch_size_4 , 1], strides=[1, patch_size_4, patch_size_4, 1], \n",
    "                               padding='SAME')    \n",
    "\n",
    "        print (pool4.get_shape().as_list())\n",
    "\n",
    "        shape = pool4.get_shape().as_list()\n",
    "\n",
    "        reshape = tf.reshape(pool4, [shape[0], shape[1] * shape[2] * shape[3]])    \n",
    "\n",
    "        hidden5 = tf.nn.relu(tf.matmul(reshape, layer5_weights) + layer5_biases)\n",
    "        #print (hidden5.get_shape().as_list())  \n",
    "\n",
    "        return (tf.matmul(hidden5, layer6_weights) + layer6_biases)\n",
    "\n",
    "\n",
    "      # Training computation.\n",
    "      logits = model(tf_train_dataset)\n",
    "      loss = tf.reduce_mean(\n",
    "        tf.nn.softmax_cross_entropy_with_logits(logits, tf_train_labels))\n",
    "\n",
    "\n",
    "      #Regularization: \n",
    "\n",
    "      regularization_beta = beta[i] \n",
    "      regularizers = (tf.nn.l2_loss(layer5_weights) + tf.nn.l2_loss(layer5_biases) + \n",
    "                       tf.nn.l2_loss(layer6_weights) + tf.nn.l2_loss(layer6_biases))\n",
    "\n",
    "      loss = loss + regularization_beta * regularizers\n",
    "      # Optimizer.\n",
    "      # Optimizer.\n",
    "      # We are going to find the minimum of this loss using gradient descent.\n",
    "      #optimizer = tf.train.GradientDescentOptimizer(0.01).minimize(loss)\n",
    "      #decaying learning rate:\n",
    "      starting_learning_rate = lr[i]\n",
    "      learning_rate = tf.train.exponential_decay(starting_learning_rate, num_steps, 0.75*num_steps, 0.95, \n",
    "                                                 staircase=True)\n",
    "      optimizer = tf.train.GradientDescentOptimizer(learning_rate).minimize(loss)  \n",
    "\n",
    "      # Predictions for the training, validation, and test data.\n",
    "      train_prediction = tf.nn.softmax(logits)\n",
    "      valid_prediction = tf.nn.softmax(model(tf_valid_dataset))\n",
    "      test_prediction = tf.nn.softmax(model(tf_test_dataset))\n",
    "        \n",
    "        \n",
    "        \n",
    "        \n",
    "    from sklearn.metrics import roc_auc_score\n",
    "\n",
    "    with tf.device('/gpu:0'):\n",
    "        with tf.Session(graph=graph) as session:\n",
    "          tf.initialize_all_variables().run()\n",
    "          print('Initialized')\n",
    "          for step in range(num_steps):\n",
    "            offset = (step * batch_size) % (train_labels.shape[0] - batch_size)\n",
    "            batch_data = train_dataset[offset:(offset + batch_size), :, :, :]\n",
    "            batch_labels = train_labels[offset:(offset + batch_size), :]\n",
    "            feed_dict = {tf_train_dataset : batch_data, tf_train_labels : batch_labels}\n",
    "            _, l, predictions = session.run(\n",
    "              [optimizer, loss, train_prediction], feed_dict=feed_dict)\n",
    "            if (step % 250 == 0):\n",
    "              print('Minibatch loss at step %d: %f' % (step, l))\n",
    "              print('Minibatch accuracy: %.1f%%' % accuracy(predictions, batch_labels))\n",
    "              print('Validation accuracy: %.1f%%' % accuracy(\n",
    "                valid_prediction.eval(), valid_labels))\n",
    "              print('AUC: %.3f' %  roc_auc_score(valid_labels, valid_prediction.eval()))\n",
    "              print (\".................\")\n",
    "\n",
    "            if (step % 50 == 0):\n",
    "              valid_accuracy.append(accuracy(\n",
    "                    valid_prediction.eval(), valid_labels))\n",
    "              valid_auc.append(roc_auc_score(valid_labels, valid_prediction.eval()))\n",
    "              test_accuracy.append(accuracy(\n",
    "                    test_prediction.eval(), test_labels))\n",
    "              test_auc.append(roc_auc_score(test_labels, test_prediction.eval()))\n",
    "              pred_step.append(step)\n",
    "          print(\"Test accuracy: %.1f%%\" % accuracy(test_prediction.eval(), test_labels))\n",
    "          valid_accuracy_array.append(valid_accuracy)\n",
    "          valid_auc_array.append(valid_auc)\n",
    "          test_accuracy_array.append(test_accuracy)\n",
    "          test_auc_array.append(test_auc)\n",
    "          pred_step_array.append(pred_step)\n",
    "          print('Test accuracy: %.1f%%' % accuracy(test_prediction.eval(), test_labels))\n",
    "          print('Test AUC ROC: %.3f' %  roc_auc_score(test_labels, test_prediction.eval())) \n",
    "          print(\"-----------------------------------------\\n\")"
   ]
  },
  {
   "cell_type": "code",
   "execution_count": 68,
   "metadata": {
    "collapsed": false
   },
   "outputs": [
    {
     "data": {
      "image/png": "[encoded data removed]",
      "text/plain": [
       "<matplotlib.figure.Figure at 0x7f9c747ae7d0>"
      ]
     },
     "metadata": {},
     "output_type": "display_data"
    }
   ],
   "source": [
    "for i in range(len(pred_step_array)):\n",
    "    plt.plot(pred_step_array[i],valid_auc_array[i], label= 'validation %d'%batch_size_array[i])\n",
    "    plt.plot(pred_step_array[i],test_auc_array[i], label= 'test %d'%batch_size_array[i])\n",
    "plt.xlabel('steps')\n",
    "plt.ylabel('AUC')\n",
    "plt.legend(loc= \"best\")\n",
    "plt.title (\"AUC\")\n",
    "plt.show()"
   ]
  },
  {
   "cell_type": "code",
   "execution_count": 112,
   "metadata": {
    "cellView": "both",
    "colab": {
     "autoexec": {
      "startup": false,
      "wait_interval": 0
     },
     "output_extras": [
      {
       "item_id": 37
      }
     ]
    },
    "colab_type": "code",
    "collapsed": false,
    "executionInfo": {
     "elapsed": 63292,
     "status": "ok",
     "timestamp": 1446658966251,
     "user": {
      "color": "",
      "displayName": "",
      "isAnonymous": false,
      "isMe": true,
      "permissionId": "",
      "photoUrl": "",
      "sessionId": "0",
      "userId": ""
     },
     "user_tz": 480
    },
    "id": "noKFb2UovVFR",
    "outputId": "28941338-2ef9-4088-8bd1-44295661e628"
   },
   "outputs": [
    {
     "name": "stdout",
     "output_type": "stream",
     "text": [
      "num_steps:843\n",
      "Initialized\n",
      "Minibatch loss at step 0: 20.895693\n",
      "Minibatch accuracy: 50.0%\n",
      "Validation accuracy: 50.0%\n",
      "AUC: 0.548\n",
      ".................\n",
      "Minibatch loss at step 250: 1.171237\n",
      "Minibatch accuracy: 60.0%\n",
      "Validation accuracy: 67.6%\n",
      "AUC: 0.856\n",
      ".................\n",
      "Minibatch loss at step 500: 0.326232\n",
      "Minibatch accuracy: 90.0%\n",
      "Validation accuracy: 86.3%\n",
      "AUC: 0.912\n",
      ".................\n",
      "Minibatch loss at step 750: 0.367443\n",
      "Minibatch accuracy: 80.0%\n",
      "Validation accuracy: 87.1%\n",
      "AUC: 0.918\n",
      ".................\n",
      "Test accuracy: 80.0%\n",
      "Test AUC ROC: 0.912\n"
     ]
    }
   ],
   "source": [
    "num_steps = train_dataset.shape[0] // batch_size\n",
    "\n",
    "#num_steps = 3001\n",
    "print (\"num_steps:%d\" %num_steps)\n",
    "\n",
    "valid_accuracy = []\n",
    "valid_auc = []\n",
    "test_accuracy = []\n",
    "test_auc = []\n",
    "pred_step = []\n"
   ]
  },
  {
   "cell_type": "code",
   "execution_count": 51,
   "metadata": {
    "collapsed": false
   },
   "outputs": [
    {
     "data": {
      "image/png": "[encoded data removed]",
      "text/plain": [
       "<matplotlib.figure.Figure at 0x7f9c685282d0>"
      ]
     },
     "metadata": {},
     "output_type": "display_data"
    },
    {
     "data": {
      "image/png": "[encoded data removed]",
      "text/plain": [
       "<matplotlib.figure.Figure at 0x7f9c69bdbd90>"
      ]
     },
     "metadata": {},
     "output_type": "display_data"
    }
   ],
   "source": [
    "%matplotlib inline \n",
    "plt.plot(pred_step,valid_accuracy, label= 'validation')\n",
    "plt.plot(pred_step,test_accuracy, label= 'test')\n",
    "plt.xlabel('steps')\n",
    "plt.ylabel('accuracy')\n",
    "plt.legend(loc= \"best\")\n",
    "plt.title (\"Accuracy\")\n",
    "plt.show()\n",
    "\n",
    "plt.plot(pred_step,valid_auc, label= 'validation')\n",
    "plt.plot(pred_step,test_auc, label= 'test')\n",
    "plt.xlabel('steps')\n",
    "plt.ylabel('AUC')\n",
    "plt.legend(loc= \"best\")\n",
    "plt.title (\"AUC\")\n",
    "plt.show()"
   ]
  },
  {
   "cell_type": "markdown",
   "metadata": {},
   "source": [
    "## CIFAR-10"
   ]
  },
  {
   "cell_type": "code",
   "execution_count": 40,
   "metadata": {
    "cellView": "both",
    "colab": {
     "autoexec": {
      "startup": false,
      "wait_interval": 0
     }
    },
    "colab_type": "code",
    "collapsed": false,
    "id": "IZYv70SvvOan"
   },
   "outputs": [
    {
     "name": "stdout",
     "output_type": "stream",
     "text": [
      "[128, 2048]\n",
      "[10, 10, 10, 1]\n",
      "[10, 9, 9, 1]\n",
      "[10, 8, 8, 128]\n",
      "[10, 7, 7, 128]\n",
      "[10, 5, 5, 192]\n",
      "[10, 4, 4, 192]\n",
      "[10, 3, 3, 128]\n",
      "[10, 128]\n",
      "[10, 2048]\n",
      "[2811, 10, 10, 1]\n",
      "[2811, 9, 9, 1]\n",
      "[2811, 8, 8, 128]\n",
      "[2811, 7, 7, 128]\n",
      "[2811, 5, 5, 192]\n",
      "[2811, 4, 4, 192]\n",
      "[2811, 3, 3, 128]\n",
      "[2811, 128]\n",
      "[2811, 2048]\n",
      "[2811, 10, 10, 1]\n",
      "[2811, 9, 9, 1]\n",
      "[2811, 8, 8, 128]\n",
      "[2811, 7, 7, 128]\n",
      "[2811, 5, 5, 192]\n",
      "[2811, 4, 4, 192]\n",
      "[2811, 3, 3, 128]\n",
      "[2811, 128]\n",
      "[2811, 2048]\n"
     ]
    }
   ],
   "source": [
    "# CIFAR-10 implementation\n",
    "#http://www.pyimagesearch.com/2016/08/01/lenet-convolutional-neural-network-in-python/\n",
    "\n",
    "num_steps = 0\n",
    "batch_size = 10\n",
    "num_channels = 1\n",
    "stride = 1 #1 very common\n",
    "\n",
    "\n",
    "depth_1 = 1 # only one channel\n",
    "depth_2 = 48\n",
    "depth_3 = 128 #256\n",
    "#depth_4 = 192\n",
    "depth_5 = 192\n",
    "depth_6 = 192\n",
    "depth_7 = 128\n",
    "#depth_8 = 192\n",
    "depth_9 = 2048\n",
    "depth_10 = 2048\n",
    "\n",
    "pooling_size = 2\n",
    "\n",
    "patch_size_1 = 4 \n",
    "#pooling\n",
    "patch_size_2 = pooling_size \n",
    "patch_size_3 = 2\n",
    "#pooling\n",
    "patch_size_4 = pooling_size\n",
    "patch_size_5 = 3\n",
    "patch_size_6 = 2\n",
    "patch_size_7 = 2\n",
    "#pooling\n",
    "patch_size_8 = pooling_size\n",
    "#patch_size_9 = 3 #FC\n",
    "#patch_size_10 = 3 #FC\n",
    "\n",
    "\n",
    "stride_1 = 3\n",
    "stride_2 = 1 #pool\n",
    "stride_4 = 1\n",
    "stride_8 = 2\n",
    "\n",
    "\n",
    "graph = tf.Graph()\n",
    "\n",
    "with graph.as_default():\n",
    "\n",
    "  # Input data.\n",
    "  tf_train_dataset = tf.placeholder(\n",
    "    tf.float32, shape=(batch_size, image_height, image_width, num_channels))\n",
    "  tf_train_labels = tf.placeholder(tf.float32, shape=(batch_size, num_labels))\n",
    "  tf_valid_dataset = tf.constant(valid_dataset)\n",
    "  tf_test_dataset = tf.constant(test_dataset)\n",
    "  \n",
    "  # Variables.\n",
    "  layer1_weights = tf.Variable(tf.truncated_normal(\n",
    "      [patch_size_1, patch_size_1, num_channels, depth_1], stddev=0.01))\n",
    "  layer1_biases = tf.Variable(tf.zeros([depth_1]))\n",
    "  #print (layer3_weights.get_shape().as_list())\n",
    "  layer3_weights = tf.Variable(tf.truncated_normal(\n",
    "      [patch_size_3, patch_size_3, depth_1, depth_3], stddev=0.01))\n",
    "  layer3_biases = tf.Variable(tf.constant(1.0, shape=[depth_3]))\n",
    "\n",
    "  layer5_weights = tf.Variable(tf.truncated_normal(\n",
    "      [patch_size_5, patch_size_5, depth_3, depth_5], stddev=0.01)) #no sé si es depth_3 o depth_4 el primer argumento\n",
    "  layer5_biases = tf.Variable(tf.constant(1.0, shape=[depth_5]))\n",
    "\n",
    "    \n",
    "  layer6_weights = tf.Variable(tf.truncated_normal(\n",
    "      [patch_size_6, patch_size_6, depth_5, depth_6], stddev=0.01))\n",
    "  layer6_biases = tf.Variable(tf.constant(1.0, shape=[depth_6]))\n",
    "  \n",
    "  layer7_weights = tf.Variable(tf.truncated_normal(\n",
    "      [patch_size_7, patch_size_7, depth_6, depth_7], stddev=0.01)) #no sé si es depth_3 o depth_4 el primer argumento\n",
    "  layer7_biases = tf.Variable(tf.constant(1.0, shape=[depth_7]))\n",
    "    \n",
    "  #layer9_weights = tf.Variable(tf.truncated_normal(\n",
    "  #    [(image_height // ( patch_size_4*stride_1*stride_2*stride_8)) * \n",
    "  #     (image_width // (patch_size_4*stride_1*stride_2*(stride_8))) * depth_7, depth_9], stddev=0.01)) #modified for variable height and width  \n",
    "  \n",
    "  layer9_weights = tf.Variable(tf.truncated_normal([depth_7, depth_9], stddev=0.01)) #modified for variable height and width  \n",
    "  \n",
    "  print (layer9_weights.get_shape().as_list())\n",
    "  layer9_biases = tf.Variable(tf.constant(1.0, shape=[depth_9]))\n",
    "  layer10_weights = tf.Variable(tf.truncated_normal(\n",
    "      [depth_9, num_labels], stddev=0.01))\n",
    "  layer10_biases = tf.Variable(tf.constant(1.0, shape=[num_labels]))\n",
    "  \n",
    "  \n",
    "  # Model.\n",
    "  def model(data):\n",
    "    conv1 = tf.nn.conv2d(data, layer1_weights, [1, stride_1, stride_1, 1], padding='VALID')\n",
    "    print (conv1.get_shape().as_list())\n",
    "    hidden1 = tf.nn.relu(conv1 + layer1_biases)\n",
    "    pool2 = tf.nn.max_pool(hidden1, ksize=[1, patch_size_2, patch_size_2, 1], strides=[1, stride_2, stride_2, 1], \n",
    "                           padding='VALID')\n",
    "    print (pool2.get_shape().as_list())\n",
    "    \n",
    "    conv3 = tf.nn.conv2d(pool2, layer3_weights, [1, stride, stride, 1], padding='VALID')\n",
    "    print (conv3.get_shape().as_list())\n",
    "    hidden3 = tf.nn.relu(conv3 + layer3_biases)\n",
    "    pool4 = tf.nn.max_pool(hidden3, ksize=[1,  patch_size_4, patch_size_4 , 1], strides=[1, stride_4, stride_4, 1], \n",
    "                           padding='VALID')    \n",
    "    \n",
    "    print (pool4.get_shape().as_list())\n",
    "    \n",
    "    \n",
    "    conv5 = tf.nn.conv2d(pool4, layer5_weights, [1, stride, stride, 1], padding='VALID')\n",
    "    print (conv5.get_shape().as_list())\n",
    "    hidden5 = tf.nn.relu(conv5 + layer5_biases)\n",
    "    conv6 = tf.nn.conv2d(hidden5, layer6_weights, [1, stride, stride, 1], padding='VALID')\n",
    "    print (conv6.get_shape().as_list())\n",
    "    hidden6 = tf.nn.relu(conv6 + layer6_biases)\n",
    "    \n",
    "    conv7 = tf.nn.conv2d(hidden6, layer7_weights, [1, stride, stride, 1], padding='VALID')\n",
    "    \n",
    "    print (conv7.get_shape().as_list())\n",
    "    hidden7 = tf.nn.relu(conv7 + layer7_biases)\n",
    "    \n",
    "    pool8 = tf.nn.max_pool(hidden7, ksize=[1,  patch_size_8, patch_size_8 , 1], strides=[1, stride_8, stride_8, 1], \n",
    "                           padding='VALID')\n",
    "    \n",
    "    \n",
    "    \n",
    "    shape = pool8.get_shape().as_list()\n",
    "    reshape = tf.reshape(pool8, [shape[0], shape[1] * shape[2] * shape[3]])    \n",
    "    \n",
    "    #shape = hidden7.get_shape().as_list() #No sense to do pooling since there is not data remainin [1,1]\n",
    "\n",
    "    #reshape = tf.reshape(hidden7, [shape[0], shape[1] * shape[2] * shape[3]])    \n",
    "    print (reshape.get_shape().as_list())  \n",
    "    hidden9 = tf.nn.relu(tf.matmul(reshape, layer9_weights) + layer9_biases)\n",
    "    print (hidden9.get_shape().as_list())  \n",
    "    \n",
    "    return (tf.matmul(hidden9, layer10_weights) + layer10_biases)\n",
    "  \n",
    "    \n",
    "  # Training computation.\n",
    "  logits = model(tf_train_dataset)\n",
    "  loss = tf.reduce_mean(\n",
    "    tf.nn.softmax_cross_entropy_with_logits(logits, tf_train_labels))\n",
    "  5\n",
    "    \n",
    "  #Regularization: \n",
    "\n",
    "  regularization_beta = 0.0005 \n",
    "  regularizers = (tf.nn.l2_loss(layer5_weights) + tf.nn.l2_loss(layer5_biases) + \n",
    "                   tf.nn.l2_loss(layer6_weights) + tf.nn.l2_loss(layer6_biases))\n",
    "\n",
    "  loss = loss + regularization_beta * regularizers\n",
    "  # Optimizer.\n",
    "  # Optimizer.\n",
    "  # We are going to find the minimum of this loss using gradient descent.\n",
    "  #optimizer = tf.train.GradientDescentOptimizer(0.01).minimize(loss)\n",
    "  #decaying learning rate:\n",
    "  starting_learning_rate = 0.01\n",
    "  learning_rate = tf.train.exponential_decay(starting_learning_rate, num_steps, 1501, 0.8, staircase=True)\n",
    "  optimizer = tf.train.GradientDescentOptimizer(learning_rate).minimize(loss)  \n",
    "  \n",
    "  # Predictions for the training, validation, and test data.\n",
    "  train_prediction = tf.nn.softmax(logits)\n",
    "  valid_prediction = tf.nn.softmax(model(tf_valid_dataset))\n",
    "  test_prediction = tf.nn.softmax(model(tf_test_dataset))"
   ]
  },
  {
   "cell_type": "code",
   "execution_count": 41,
   "metadata": {
    "cellView": "both",
    "colab": {
     "autoexec": {
      "startup": false,
      "wait_interval": 0
     },
     "output_extras": [
      {
       "item_id": 37
      }
     ]
    },
    "colab_type": "code",
    "collapsed": false,
    "executionInfo": {
     "elapsed": 63292,
     "status": "ok",
     "timestamp": 1446658966251,
     "user": {
      "color": "",
      "displayName": "",
      "isAnonymous": false,
      "isMe": true,
      "permissionId": "",
      "photoUrl": "",
      "sessionId": "0",
      "userId": ""
     },
     "user_tz": 480
    },
    "id": "noKFb2UovVFR",
    "outputId": "28941338-2ef9-4088-8bd1-44295661e628"
   },
   "outputs": [
    {
     "name": "stdout",
     "output_type": "stream",
     "text": [
      "num_steps:843\n",
      "Initialized\n",
      "Minibatch loss at step 0: 0.796456\n",
      "Minibatch accuracy: 50.0%\n",
      "Validation accuracy: 50.0%\n",
      "AUC: 0.581\n",
      ".................\n",
      "Minibatch loss at step 250: 0.799928\n",
      "Minibatch accuracy: 30.0%\n",
      "Validation accuracy: 50.0%\n",
      "AUC: 0.813\n",
      ".................\n",
      "Minibatch loss at step 500: 0.690534\n",
      "Minibatch accuracy: 80.0%\n",
      "Validation accuracy: 76.0%\n",
      "AUC: 0.904\n",
      ".................\n",
      "Minibatch loss at step 750: 0.310762\n",
      "Minibatch accuracy: 100.0%\n",
      "Validation accuracy: 87.3%\n",
      "AUC: 0.908\n",
      ".................\n",
      "Test accuracy: 88.0%\n",
      "Test AUC ROC: 0.907\n"
     ]
    }
   ],
   "source": [
    "num_steps = train_dataset.shape[0] // batch_size\n",
    "\n",
    "#num_steps = 3001\n",
    "print (\"num_steps:%d\" %num_steps)\n",
    "\n",
    "valid_accuracy = []\n",
    "valid_auc = []\n",
    "test_accuracy = []\n",
    "test_auc = []\n",
    "pred_step = []\n",
    "from sklearn.metrics import roc_auc_score\n",
    "\n",
    "with tf.device('/gpu:0'):\n",
    "    with tf.Session(graph=graph) as session:\n",
    "      tf.initialize_all_variables().run()\n",
    "      print('Initialized')\n",
    "      for step in range(num_steps):\n",
    "        offset = (step * batch_size) % (train_labels.shape[0] - batch_size)\n",
    "        batch_data = train_dataset[offset:(offset + batch_size), :, :, :]\n",
    "        batch_labels = train_labels[offset:(offset + batch_size), :]\n",
    "        feed_dict = {tf_train_dataset : batch_data, tf_train_labels : batch_labels}\n",
    "        _, l, predictions = session.run(\n",
    "          [optimizer, loss, train_prediction], feed_dict=feed_dict)\n",
    "        if (step % 250 == 0):\n",
    "          print('Minibatch loss at step %d: %f' % (step, l))\n",
    "          print('Minibatch accuracy: %.1f%%' % accuracy(predictions, batch_labels))\n",
    "          print('Validation accuracy: %.1f%%' % accuracy(\n",
    "            valid_prediction.eval(), valid_labels))\n",
    "          print('AUC: %.3f' %  roc_auc_score(valid_labels, valid_prediction.eval()))\n",
    "          print (\".................\")\n",
    "        \n",
    "        if (step % 50 == 0):\n",
    "          valid_accuracy.append(accuracy(\n",
    "                valid_prediction.eval(), valid_labels))\n",
    "          valid_auc.append(roc_auc_score(valid_labels, valid_prediction.eval()))\n",
    "          test_accuracy.append(accuracy(\n",
    "                test_prediction.eval(), test_labels))\n",
    "          test_auc.append(roc_auc_score(test_labels, test_prediction.eval()))\n",
    "          pred_step.append(step)\n",
    "      print('Test accuracy: %.1f%%' % accuracy(test_prediction.eval(), test_labels))\n",
    "      print('Test AUC ROC: %.3f' %  roc_auc_score(test_labels, test_prediction.eval()))  \n"
   ]
  },
  {
   "cell_type": "code",
   "execution_count": 42,
   "metadata": {
    "collapsed": false
   },
   "outputs": [
    {
     "data": {
      "image/png": "[encoded data removed]",
      "text/plain": [
       "<matplotlib.figure.Figure at 0x7f175df98c90>"
      ]
     },
     "metadata": {},
     "output_type": "display_data"
    },
    {
     "data": {
      "image/png": "[encoded data removed]",
      "text/plain": [
       "<matplotlib.figure.Figure at 0x7f175e70a550>"
      ]
     },
     "metadata": {},
     "output_type": "display_data"
    }
   ],
   "source": [
    "%matplotlib inline \n",
    "plt.plot(pred_step,valid_accuracy, label= 'validation')\n",
    "plt.plot(pred_step,test_accuracy, label= 'test')\n",
    "plt.xlabel('steps')\n",
    "plt.ylabel('accuracy')\n",
    "plt.legend(loc= \"best\")\n",
    "plt.title (\"Accuracy\")\n",
    "plt.show()\n",
    "\n",
    "plt.plot(pred_step,valid_auc, label= 'validation')\n",
    "plt.plot(pred_step,test_auc, label= 'test')\n",
    "plt.xlabel('steps')\n",
    "plt.ylabel('AUC')\n",
    "plt.legend(loc= \"best\")\n",
    "plt.title (\"AUC\")\n",
    "plt.show()"
   ]
  },
  {
   "cell_type": "markdown",
   "metadata": {
    "colab_type": "text",
    "id": "KedKkn4EutIK"
   },
   "source": [
    "---\n",
    "Problem 1\n",
    "---------\n",
    "\n",
    "The convolutional model above uses convolutions with stride 2 to reduce the dimensionality. Replace the strides by a max pooling operation (`nn.max_pool()`) of stride 2 and kernel size 2.\n",
    "\n",
    "---"
   ]
  },
  {
   "cell_type": "code",
   "execution_count": 39,
   "metadata": {
    "cellView": "both",
    "colab": {
     "autoexec": {
      "startup": false,
      "wait_interval": 0
     }
    },
    "colab_type": "code",
    "collapsed": false,
    "id": "IZYv70SvvOan"
   },
   "outputs": [
    {
     "name": "stdout",
     "output_type": "stream",
     "text": [
      "[20, 32, 32, 6]\n",
      "[20, 16, 16, 6]\n",
      "[20, 4, 4, 6]\n",
      "[20, 2, 2, 6]\n",
      "[2811, 32, 32, 6]\n",
      "[2811, 16, 16, 6]\n",
      "[2811, 4, 4, 6]\n",
      "[2811, 2, 2, 6]\n",
      "[2811, 32, 32, 6]\n",
      "[2811, 16, 16, 6]\n",
      "[2811, 4, 4, 6]\n",
      "[2811, 2, 2, 6]\n"
     ]
    }
   ],
   "source": [
    "batch_size = 16\n",
    "patch_size = 2\n",
    "depth = 16\n",
    "num_hidden = 64\n",
    "num_channels = 1\n",
    "stride = 2\n",
    "\n",
    "\n",
    "#---------------------\n",
    "batch_size = 20\n",
    "patch_size = 4\n",
    "depth = 6\n",
    "num_hidden = 32\n",
    "num_channels = 1\n",
    "stride = 4\n",
    "pooling = 2\n",
    "\n",
    "graph = tf.Graph()\n",
    "\n",
    "with graph.as_default():\n",
    "\n",
    "  # Input data.\n",
    "  tf_train_dataset = tf.placeholder(\n",
    "    tf.float32, shape=(batch_size, image_height, image_width, num_channels))\n",
    "  tf_train_labels = tf.placeholder(tf.float32, shape=(batch_size, num_labels))\n",
    "  tf_valid_dataset = tf.constant(valid_dataset)\n",
    "  tf_test_dataset = tf.constant(test_dataset)\n",
    "  \n",
    "  # Variables.\n",
    "  layer1_weights = tf.Variable(tf.truncated_normal(\n",
    "      [patch_size, patch_size, num_channels, depth], stddev=0.1))\n",
    "  layer1_biases = tf.Variable(tf.zeros([depth]))\n",
    "  layer2_weights = tf.Variable(tf.truncated_normal(\n",
    "      [patch_size, patch_size, depth, depth], stddev=0.1))\n",
    "  layer2_biases = tf.Variable(tf.constant(1.0, shape=[depth]))\n",
    "  #layer3_weights = tf.Variable(tf.truncated_normal(\n",
    "  #    [image_height // 4 * image_width // 4 * depth, num_hidden], stddev=0.1)) #modified for variable height and width\n",
    "  layer3_weights = tf.Variable(tf.truncated_normal(\n",
    "      [(image_height // (stride**2*pooling**2)) * (image_width // (stride**2*pooling**2)) * depth, num_hidden], stddev=0.1)) #modified for variable height and width  \n",
    "\n",
    "  layer3_biases = tf.Variable(tf.constant(1.0, shape=[num_hidden]))\n",
    "  layer4_weights = tf.Variable(tf.truncated_normal(\n",
    "      [num_hidden, num_labels], stddev=0.1))\n",
    "  layer4_biases = tf.Variable(tf.constant(1.0, shape=[num_labels]))\n",
    "  \n",
    "  # Model.\n",
    "  def model(data):\n",
    "    conv1 = tf.nn.conv2d(data, layer1_weights, [1, stride, stride, 1], padding='VALID')\n",
    "    print (conv1.get_shape().as_list())\n",
    "    hidden1 = tf.nn.relu(conv1 + layer1_biases)\n",
    "    pool1 = tf.nn.max_pool(hidden1, ksize=[1, 2, 2, 1], strides=[1, pooling, pooling, 1], padding='SAME')\n",
    "    print (pool1.get_shape().as_list())\n",
    "    \n",
    "    conv2 = tf.nn.conv2d(pool1, layer2_weights, [1, stride, stride, 1], padding='VALID')\n",
    "    print (conv2.get_shape().as_list())\n",
    "    hidden2 = tf.nn.relu(conv2 + layer2_biases)\n",
    "    pool2 = tf.nn.max_pool(hidden2, ksize=[1, 2, 2, 1], strides=[1, pooling, pooling, 1], padding='SAME')    \n",
    "    print (pool2.get_shape().as_list())\n",
    "    \n",
    "    shape = pool2.get_shape().as_list()\n",
    "\n",
    "    reshape = tf.reshape(pool2, [shape[0], shape[1] * shape[2] * shape[3]])    \n",
    "    hidden3 = tf.nn.relu(tf.matmul(reshape, layer3_weights) + layer3_biases)\n",
    "\n",
    "    return (tf.matmul(hidden3, layer4_weights) + layer4_biases)\n",
    "  \n",
    "  # Training computation.\n",
    "  logits = model(tf_train_dataset)\n",
    "  loss = tf.reduce_mean(\n",
    "    tf.nn.softmax_cross_entropy_with_logits(logits, tf_train_labels))\n",
    "    \n",
    "  # Optimizer.\n",
    "  optimizer = tf.train.GradientDescentOptimizer(0.3).minimize(loss)\n",
    "  \n",
    "  # Predictions for the training, validation, and test data.\n",
    "  train_prediction = tf.nn.softmax(logits)\n",
    "  valid_prediction = tf.nn.softmax(model(tf_valid_dataset))\n",
    "  test_prediction = tf.nn.softmax(model(tf_test_dataset))"
   ]
  },
  {
   "cell_type": "code",
   "execution_count": 40,
   "metadata": {
    "cellView": "both",
    "colab": {
     "autoexec": {
      "startup": false,
      "wait_interval": 0
     },
     "output_extras": [
      {
       "item_id": 37
      }
     ]
    },
    "colab_type": "code",
    "collapsed": false,
    "executionInfo": {
     "elapsed": 63292,
     "status": "ok",
     "timestamp": 1446658966251,
     "user": {
      "color": "",
      "displayName": "",
      "isAnonymous": false,
      "isMe": true,
      "permissionId": "",
      "photoUrl": "",
      "sessionId": "0",
      "userId": ""
     },
     "user_tz": 480
    },
    "id": "noKFb2UovVFR",
    "outputId": "28941338-2ef9-4088-8bd1-44295661e628"
   },
   "outputs": [
    {
     "name": "stdout",
     "output_type": "stream",
     "text": [
      "num_steps:421\n",
      "Initialized\n",
      "Minibatch loss at step 0: 1.215984\n",
      "Minibatch accuracy: 40.0%\n",
      "Validation accuracy: 50.0%\n",
      "Minibatch loss at step 250: 0.514865\n",
      "Minibatch accuracy: 75.0%\n",
      "Validation accuracy: 73.2%\n",
      "Test accuracy: 78.4%\n"
     ]
    }
   ],
   "source": [
    "num_steps = train_dataset.shape[0] // batch_size\n",
    "\n",
    "#num_steps = 3001\n",
    "print (\"num_steps:%d\" %num_steps)\n",
    "\n",
    "valid_accuracy = []\n",
    "test_accuracy = []\n",
    "pred_step = []\n",
    "\n",
    "with tf.Session(graph=graph) as session:\n",
    "  tf.initialize_all_variables().run()\n",
    "  print('Initialized')\n",
    "  for step in range(num_steps):\n",
    "    #do not randomize train dataset each step: it is learning from slices and it will go mad!\n",
    "    offset = (step * batch_size) % (train_labels.shape[0] - batch_size)\n",
    "    #print (\"offset %d\" %offset)\n",
    "    batch_data = train_dataset[offset:(offset + batch_size), :, :, :]\n",
    "    batch_labels = train_labels[offset:(offset + batch_size), :]\n",
    "    feed_dict = {tf_train_dataset : batch_data, tf_train_labels : batch_labels}\n",
    "    _, l, predictions = session.run(\n",
    "      [optimizer, loss, train_prediction], feed_dict=feed_dict)\n",
    "    if (step % 250 == 0):\n",
    "      print('Minibatch loss at step %d: %f' % (step, l))\n",
    "      print('Minibatch accuracy: %.1f%%' % accuracy(predictions, batch_labels))\n",
    "      print('Validation accuracy: %.1f%%' % accuracy(\n",
    "        valid_prediction.eval(), valid_labels))\n",
    "    if (step % 250 == 0):\n",
    "      valid_accuracy.append(accuracy(\n",
    "            valid_prediction.eval(), valid_labels))\n",
    "      test_accuracy.append(accuracy(\n",
    "            test_prediction.eval(), test_labels))\n",
    "      pred_step.append(step)\n",
    "  print('Test accuracy: %.1f%%' % accuracy(test_prediction.eval(), test_labels))"
   ]
  },
  {
   "cell_type": "code",
   "execution_count": 5,
   "metadata": {
    "cellView": "both",
    "colab": {
     "autoexec": {
      "startup": false,
      "wait_interval": 0
     }
    },
    "colab_type": "code",
    "collapsed": false,
    "id": "IZYv70SvvOan"
   },
   "outputs": [
    {
     "ename": "NameError",
     "evalue": "name 'num_steps' is not defined",
     "output_type": "error",
     "traceback": [
      "\u001b[0;31m---------------------------------------------------------------------------\u001b[0m",
      "\u001b[0;31mNameError\u001b[0m                                 Traceback (most recent call last)",
      "\u001b[0;32m<ipython-input-5-3c6d52ce5c9b>\u001b[0m in \u001b[0;36m<module>\u001b[0;34m()\u001b[0m\n\u001b[1;32m     63\u001b[0m   \u001b[0;31m#decaying learning rate:\u001b[0m\u001b[0;34m\u001b[0m\u001b[0;34m\u001b[0m\u001b[0m\n\u001b[1;32m     64\u001b[0m   \u001b[0mstarting_learning_rate\u001b[0m \u001b[0;34m=\u001b[0m \u001b[0;36m0.1\u001b[0m\u001b[0;34m\u001b[0m\u001b[0m\n\u001b[0;32m---> 65\u001b[0;31m   \u001b[0mlearning_rate\u001b[0m \u001b[0;34m=\u001b[0m \u001b[0mtf\u001b[0m\u001b[0;34m.\u001b[0m\u001b[0mtrain\u001b[0m\u001b[0;34m.\u001b[0m\u001b[0mexponential_decay\u001b[0m\u001b[0;34m(\u001b[0m\u001b[0mstarting_learning_rate\u001b[0m\u001b[0;34m,\u001b[0m \u001b[0mnum_steps\u001b[0m\u001b[0;34m,\u001b[0m \u001b[0;36m2001\u001b[0m\u001b[0;34m,\u001b[0m \u001b[0;36m0.9\u001b[0m\u001b[0;34m,\u001b[0m \u001b[0mstaircase\u001b[0m\u001b[0;34m=\u001b[0m\u001b[0mTrue\u001b[0m\u001b[0;34m)\u001b[0m\u001b[0;34m\u001b[0m\u001b[0m\n\u001b[0m\u001b[1;32m     66\u001b[0m   \u001b[0moptimizer\u001b[0m \u001b[0;34m=\u001b[0m \u001b[0mtf\u001b[0m\u001b[0;34m.\u001b[0m\u001b[0mtrain\u001b[0m\u001b[0;34m.\u001b[0m\u001b[0mGradientDescentOptimizer\u001b[0m\u001b[0;34m(\u001b[0m\u001b[0mlearning_rate\u001b[0m\u001b[0;34m)\u001b[0m\u001b[0;34m.\u001b[0m\u001b[0mminimize\u001b[0m\u001b[0;34m(\u001b[0m\u001b[0mloss\u001b[0m\u001b[0;34m)\u001b[0m\u001b[0;34m\u001b[0m\u001b[0m\n\u001b[1;32m     67\u001b[0m \u001b[0;34m\u001b[0m\u001b[0m\n",
      "\u001b[0;31mNameError\u001b[0m: name 'num_steps' is not defined"
     ]
    }
   ],
   "source": [
    "batch_size = 20\n",
    "patch_size = 5\n",
    "depth = 6\n",
    "num_hidden = 64\n",
    "num_channels = 1\n",
    "stride = 2 #1 very common\n",
    "\n",
    "\n",
    "\n",
    "graph = tf.Graph()\n",
    "\n",
    "with graph.as_default():\n",
    "\n",
    "  # Input data.\n",
    "  tf_train_dataset = tf.placeholder(\n",
    "    tf.float32, shape=(batch_size, image_height, image_width, num_channels))\n",
    "  tf_train_labels = tf.placeholder(tf.float32, shape=(batch_size, num_labels))\n",
    "  tf_valid_dataset = tf.constant(valid_dataset)\n",
    "  tf_test_dataset = tf.constant(test_dataset)\n",
    "  \n",
    "  # Variables.\n",
    "  layer1_weights = tf.Variable(tf.truncated_normal(\n",
    "      [patch_size, patch_size, num_channels, depth], stddev=0.1))\n",
    "  layer1_biases = tf.Variable(tf.zeros([depth]))\n",
    "  layer2_weights = tf.Variable(tf.truncated_normal(\n",
    "      [patch_size, patch_size, depth, depth], stddev=0.1))\n",
    "  layer2_biases = tf.Variable(tf.constant(1.0, shape=[depth]))\n",
    "  #layer3_weights = tf.Variable(tf.truncated_normal(\n",
    "  #    [image_height // 4 * image_width // 4 * depth, num_hidden], stddev=0.1)) #modified for variable height and width\n",
    "  layer3_weights = tf.Variable(tf.truncated_normal(\n",
    "      [(image_height // stride**2) * (image_width // stride**2) * depth, num_hidden], stddev=0.1)) #modified for variable height and width  \n",
    "  #print (layer3_weights.get_shape().as_list())\n",
    "  layer3_biases = tf.Variable(tf.constant(1.0, shape=[num_hidden]))\n",
    "  layer4_weights = tf.Variable(tf.truncated_normal(\n",
    "      [num_hidden, num_labels], stddev=0.1))\n",
    "  layer4_biases = tf.Variable(tf.constant(1.0, shape=[num_labels]))\n",
    "  \n",
    "  # Model.\n",
    "  def model(data):\n",
    "    conv = tf.nn.conv2d(data, layer1_weights, [1, stride,stride, 1], padding='SAME')\n",
    "    #print (conv.get_shape().as_list())\n",
    "    hidden = tf.nn.relu(conv + layer1_biases)\n",
    "    #print (hidden.get_shape().as_list())\n",
    "    conv = tf.nn.conv2d(hidden, layer2_weights, [1, stride, stride, 1], padding='SAME')\n",
    "    #print (conv.get_shape().as_list())\n",
    "    hidden = tf.nn.relu(conv + layer2_biases)\n",
    "    shape = hidden.get_shape().as_list()\n",
    "    #print (hidden.get_shape().as_list())\n",
    "    reshape = tf.reshape(hidden, [shape[0], shape[1] * shape[2] * shape[3]])    \n",
    "    hidden = tf.nn.relu(tf.matmul(reshape, layer3_weights) + layer3_biases)\n",
    "    return (tf.matmul(hidden, layer4_weights) + layer4_biases)\n",
    "  \n",
    "    \n",
    "  # Training computation.\n",
    "  logits = model(tf_train_dataset)\n",
    "  loss = tf.reduce_mean(\n",
    "    tf.nn.softmax_cross_entropy_with_logits(logits, tf_train_labels))\n",
    "    \n",
    "  # Optimizer.\n",
    "  # Optimizer.\n",
    "  # We are going to find the minimum of this loss using gradient descent.\n",
    "  #optimizer = tf.train.GradientDescentOptimizer(0.01).minimize(loss)\n",
    "  #decaying learning rate:\n",
    "  starting_learning_rate = 0.1\n",
    "  learning_rate = tf.train.exponential_decay(starting_learning_rate, num_steps, 2001, 0.9, staircase=True)\n",
    "  optimizer = tf.train.GradientDescentOptimizer(learning_rate).minimize(loss)  \n",
    "  \n",
    "  # Predictions for the training, validation, and test data.\n",
    "  train_prediction = tf.nn.softmax(logits)\n",
    "  valid_prediction = tf.nn.softmax(model(tf_valid_dataset))\n",
    "  test_prediction = tf.nn.softmax(model(tf_test_dataset))"
   ]
  },
  {
   "cell_type": "code",
   "execution_count": 41,
   "metadata": {
    "collapsed": false
   },
   "outputs": [
    {
     "data": {
      "text/plain": [
       "<matplotlib.legend.Legend at 0x7f7cf56cfc10>"
      ]
     },
     "execution_count": 41,
     "metadata": {},
     "output_type": "execute_result"
    },
    {
     "data": {
      "image/png": "[encoded data removed]",
      "text/plain": [
       "<matplotlib.figure.Figure at 0x7f7db801ca90>"
      ]
     },
     "metadata": {},
     "output_type": "display_data"
    }
   ],
   "source": [
    "%matplotlib inline \n",
    "plt.plot(pred_step,valid_accuracy, label= 'validation')\n",
    "plt.plot(pred_step,test_accuracy, label= 'test')\n",
    "plt.xlabel('steps')\n",
    "plt.ylabel('accuracy')\n",
    "plt.legend()"
   ]
  },
  {
   "cell_type": "code",
   "execution_count": 167,
   "metadata": {
    "collapsed": false
   },
   "outputs": [
    {
     "name": "stdout",
     "output_type": "stream",
     "text": [
      "Initialized\n"
     ]
    },
    {
     "ename": "NameError",
     "evalue": "name 'batch_array' is not defined",
     "output_type": "error",
     "traceback": [
      "\u001b[0;31m---------------------------------------------------------------------------\u001b[0m",
      "\u001b[0;31mNameError\u001b[0m                                 Traceback (most recent call last)",
      "\u001b[0;32m<ipython-input-167-7826120aa0ce>\u001b[0m in \u001b[0;36m<module>\u001b[0;34m()\u001b[0m\n\u001b[1;32m      8\u001b[0m   \u001b[0mtf\u001b[0m\u001b[0;34m.\u001b[0m\u001b[0minitialize_all_variables\u001b[0m\u001b[0;34m(\u001b[0m\u001b[0;34m)\u001b[0m\u001b[0;34m.\u001b[0m\u001b[0mrun\u001b[0m\u001b[0;34m(\u001b[0m\u001b[0;34m)\u001b[0m\u001b[0;34m\u001b[0m\u001b[0m\n\u001b[1;32m      9\u001b[0m   \u001b[0;32mprint\u001b[0m\u001b[0;34m(\u001b[0m\u001b[0;34m'Initialized'\u001b[0m\u001b[0;34m)\u001b[0m\u001b[0;34m\u001b[0m\u001b[0m\n\u001b[0;32m---> 10\u001b[0;31m   \u001b[0;32mfor\u001b[0m \u001b[0mbatch_size\u001b[0m \u001b[0;32min\u001b[0m \u001b[0mbatch_array\u001b[0m\u001b[0;34m:\u001b[0m\u001b[0;34m\u001b[0m\u001b[0m\n\u001b[0m\u001b[1;32m     11\u001b[0m       \u001b[0;32mfor\u001b[0m \u001b[0mstep\u001b[0m \u001b[0;32min\u001b[0m \u001b[0mrange\u001b[0m\u001b[0;34m(\u001b[0m\u001b[0mnum_steps\u001b[0m\u001b[0;34m)\u001b[0m\u001b[0;34m:\u001b[0m\u001b[0;34m\u001b[0m\u001b[0m\n\u001b[1;32m     12\u001b[0m         \u001b[0;31m#do not randomize train dataset each step: it is learning from slices and it will go mad!\u001b[0m\u001b[0;34m\u001b[0m\u001b[0;34m\u001b[0m\u001b[0m\n",
      "\u001b[0;31mNameError\u001b[0m: name 'batch_array' is not defined"
     ]
    }
   ],
   "source": [
    "num_steps = 1000\n",
    "\n",
    "valid_accuracy = []\n",
    "test_accuracy = []\n",
    "pred_step = []\n",
    "\n",
    "with tf.Session(graph=graph) as session:\n",
    "  tf.initialize_all_variables().run()\n",
    "  print('Initialized')\n",
    "  for batch_size in batch_array:\n",
    "      for step in range(num_steps):\n",
    "        #do not randomize train dataset each step: it is learning from slices and it will go mad!\n",
    "        offset = (step * batch_size) % (train_labels.shape[0] - batch_size)\n",
    "        batch_data = train_dataset[offset:(offset + batch_size), :, :, :]\n",
    "        batch_labels = train_labels[offset:(offset + batch_size), :]\n",
    "        feed_dict = {tf_train_dataset : batch_data, tf_train_labels : batch_labels}\n",
    "        _, l, predictions = session.run(\n",
    "          [optimizer, loss, train_prediction], feed_dict=feed_dict)\n",
    "        if (step % 50 == 0):\n",
    "          print('Minibatch loss at step %d: %f' % (step, l))\n",
    "          print('Minibatch accuracy: %.1f%%' % accuracy(predictions, batch_labels))\n",
    "          print('Validation accuracy: %.1f%%' % accuracy(\n",
    "            valid_prediction.eval(), valid_labels))\n",
    "          valid_accuracy.append(accuracy(\n",
    "            valid_prediction.eval(), valid_labels))\n",
    "          test_accuracy.append(accuracy(\n",
    "            test_prediction.eval(), test_labels))\n",
    "          pred_step.append(step)\n",
    "  print('Test accuracy: %.1f%%' % accuracy(test_prediction.eval(), test_labels))"
   ]
  },
  {
   "cell_type": "markdown",
   "metadata": {
    "colab_type": "text",
    "id": "klf21gpbAgb-"
   },
   "source": [
    "---\n",
    "Problem 2\n",
    "---------\n",
    "\n",
    "Try to get the best performance you can using a convolutional net. Look for example at the classic [LeNet5](http://yann.lecun.com/exdb/lenet/) architecture, adding Dropout, and/or adding learning rate decay.\n",
    "\n",
    "---"
   ]
  },
  {
   "cell_type": "code",
   "execution_count": null,
   "metadata": {
    "collapsed": true
   },
   "outputs": [],
   "source": []
  },
  {
   "cell_type": "code",
   "execution_count": null,
   "metadata": {
    "collapsed": true
   },
   "outputs": [],
   "source": []
  },
  {
   "cell_type": "code",
   "execution_count": null,
   "metadata": {
    "collapsed": true
   },
   "outputs": [],
   "source": []
  },
  {
   "cell_type": "code",
   "execution_count": null,
   "metadata": {
    "collapsed": true
   },
   "outputs": [],
   "source": []
  }
 ],
 "metadata": {
  "colab": {
   "default_view": {},
   "name": "4_convolutions.ipynb",
   "provenance": [],
   "version": "0.3.2",
   "views": {}
  },
  "kernelspec": {
   "display_name": "Python 2.7 (tensorflow)",
   "language": "python",
   "name": "tensorflow"
  },
  "language_info": {
   "codemirror_mode": {
    "name": "ipython",
    "version": 2
   },
   "file_extension": ".py",
   "mimetype": "text/x-python",
   "name": "python",
   "nbconvert_exporter": "python",
   "pygments_lexer": "ipython2",
   "version": "2.7.6"
  }
 },
 "nbformat": 4,
 "nbformat_minor": 0
}
