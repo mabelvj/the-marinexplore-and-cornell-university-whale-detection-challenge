{
 "cells": [
  {
   "cell_type": "code",
   "execution_count": 1,
   "metadata": {
    "collapsed": false
   },
   "outputs": [
    {
     "name": "stdout",
     "output_type": "stream",
     "text": [
      "The scikit-learn version is 0.18.\n"
     ]
    },
    {
     "name": "stderr",
     "output_type": "stream",
     "text": [
      "/home/mabelvj/tensorflow/local/lib/python2.7/site-packages/sklearn/cross_validation.py:44: DeprecationWarning: This module was deprecated in version 0.18 in favor of the model_selection module into which all the refactored classes and functions are moved. Also note that the interface of the new CV iterators are different from that of this module. This module will be removed in 0.20.\n",
      "  \"This module will be removed in 0.20.\", DeprecationWarning)\n"
     ]
    }
   ],
   "source": [
    "%matplotlib inline\n",
    "import matplotlib.pyplot as plt\n",
    "import matplotlib.image as mpimg\n",
    "import numpy as np\n",
    "import aifc\n",
    "import os\n",
    "import tensorflow as tf\n",
    "import random\n",
    "import pandas as pd\n",
    "import sklearn\n",
    "\n",
    "try:\n",
    "   import cPickle as pickle\n",
    "except:\n",
    "   import pickle\n",
    "\n",
    "from load_and_generate import *\n",
    "\n",
    "from sklearn.cross_validation import train_test_split\n",
    "from sklearn.model_selection import StratifiedShuffleSplit\n",
    "\n",
    "print('The scikit-learn version is {}.'.format(sklearn.__version__))\n"
   ]
  },
  {
   "cell_type": "code",
   "execution_count": 2,
   "metadata": {
    "collapsed": false
   },
   "outputs": [],
   "source": [
    "from os import listdir\n",
    "from os.path import isfile, join\n",
    "\n",
    "data_loc = '../whale-inputs/data' \n",
    "train_folder = 'train'\n",
    "file_path = os.path.join(data_loc,train_folder) #change to test if desired\n",
    "\n",
    "file_names = [f for f in listdir(file_path) if isfile(join(file_path, f))]"
   ]
  },
  {
   "cell_type": "code",
   "execution_count": 3,
   "metadata": {
    "collapsed": false
   },
   "outputs": [
    {
     "name": "stdout",
     "output_type": "stream",
     "text": [
      "2\n",
      "../whale-inputs/data/train/specgrams\n",
      "../whale-inputs/data/train/whales.pickle\n"
     ]
    }
   ],
   "source": [
    "print len(file_names)\n",
    "print os.path.join(data_loc,train_folder,'specgrams')\n",
    "print os.path.join(file_path, file_names[0])"
   ]
  },
  {
   "cell_type": "code",
   "execution_count": 4,
   "metadata": {
    "collapsed": false
   },
   "outputs": [
    {
     "name": "stdout",
     "output_type": "stream",
     "text": [
      "['/home/mabelvj/Git/whale-inputs/data/train/no_whales', '/home/mabelvj/Git/whale-inputs/data/train/whales']\n",
      "/home/mabelvj/Git/whale-inputs/data/train/no_whales.pickle already present - Skipping pickling.\n",
      "/home/mabelvj/Git/whale-inputs/data/train/whales.pickle already present - Skipping pickling.\n"
     ]
    }
   ],
   "source": [
    "num_classes = 2\n",
    "np.random.seed(133)\n",
    "\n",
    "train_folders = maybe_extract(os.path.abspath( '../whale-inputs/data/train/'))\n",
    "train_datasets = maybe_pickle(train_folders, 7000)\n",
    "#train_datasets = open_pickle(train_folders)"
   ]
  },
  {
   "cell_type": "code",
   "execution_count": 5,
   "metadata": {
    "collapsed": false
   },
   "outputs": [
    {
     "name": "stdout",
     "output_type": "stream",
     "text": [
      "('Number of images in ', '/home/mabelvj/Git/whale-inputs/data/train/no_whales', ' : ', 22973)\n",
      "('Number of images in ', '/home/mabelvj/Git/whale-inputs/data/train/whales', ' : ', 7027)\n"
     ]
    }
   ],
   "source": [
    "def disp_number_images(data_folders):\n",
    "  for folder in data_folders:\n",
    "    pickle_filename = ''.join(folder) + '.pickle'\n",
    "    try:\n",
    "      with open(pickle_filename, 'rb') as f:\n",
    "        dataset = pickle.load(f)\n",
    "    except Exception as e:\n",
    "      print('Unable to read data from', pickle_filename, ':', e)\n",
    "      return\n",
    "    print('Number of images in ', folder, ' : ', len(dataset))\n",
    "\n",
    "disp_number_images(train_folders)"
   ]
  },
  {
   "cell_type": "code",
   "execution_count": 7,
   "metadata": {
    "collapsed": false
   },
   "outputs": [
    {
     "name": "stdout",
     "output_type": "stream",
     "text": [
      "('Training:', (8432, 32, 32), (8432,))\n",
      "('Validation:', (2811, 32, 32), (2811,))\n",
      "('Testing:', (2811, 32, 32), (2811,))\n"
     ]
    }
   ],
   "source": [
    "image_width = 32\n",
    "image_height = 32\n",
    "def make_arrays(nb_rows, img_size):\n",
    "  if nb_rows:\n",
    "    dataset = np.ndarray((nb_rows,  image_height, image_width), dtype=np.float32) #change to dif\n",
    "    labels = np.ndarray(nb_rows, dtype=np.int32)\n",
    "  else:\n",
    "    dataset, labels = None, None\n",
    "  return dataset, labels\n",
    "\n",
    "def merge_datasets(pickle_files, train_size, valid_size=0):\n",
    "  num_classes = len(pickle_files)\n",
    "  valid_dataset, valid_labels = make_arrays(valid_size, image_size)\n",
    "  train_dataset, train_labels = make_arrays(train_size, image_size)\n",
    "  vsize_per_class = valid_size // num_classes\n",
    "  tsize_per_class = train_size // num_classes\n",
    "    \n",
    "  start_v, start_t = 0, 0\n",
    "  end_v, end_t = vsize_per_class, tsize_per_class\n",
    "  end_l = vsize_per_class+tsize_per_class\n",
    "  for label, pickle_file in enumerate(pickle_files):       \n",
    "    try:\n",
    "      with open(pickle_file, 'rb') as f:\n",
    "        letter_set = pickle.load(f)\n",
    "        # let's shuffle the letters to have random validation and training set\n",
    "        np.random.shuffle(letter_set)\n",
    "        if valid_dataset is not None:\n",
    "          valid_letter = letter_set[:vsize_per_class, :, :]\n",
    "          valid_dataset[start_v:end_v, :, :] = valid_letter\n",
    "          valid_labels[start_v:end_v] = label\n",
    "          start_v += vsize_per_class\n",
    "          end_v += vsize_per_class\n",
    "                    \n",
    "        train_letter = letter_set[vsize_per_class:end_l, :, :]\n",
    "        train_dataset[start_t:end_t, :, :] = train_letter\n",
    "        train_labels[start_t:end_t] = label\n",
    "        start_t += tsize_per_class\n",
    "        end_t += tsize_per_class\n",
    "    except Exception as e:\n",
    "      print('Unable to process data from', pickle_file, ':', e)\n",
    "      raise\n",
    "    \n",
    "  return valid_dataset, valid_labels, train_dataset, train_labels\n",
    "            \n",
    "            \n",
    "train_size = np.int(2.*7027.)\n",
    "valid_size = 0 #np.floor(14000.*.3).astype(int)\n",
    "test_size = 3000\n",
    "\n",
    "validation_dataset, validation_labels, train_dataset, train_labels = merge_datasets(\n",
    "  train_datasets, train_size, valid_size) #train_datasets_ is_pickle\n",
    "#_, _, test_dataset, test_labels = merge_datasets(test_datasets, test_size)\n",
    "#Stratified shuffle Split to keep elements of each class\n",
    "X= np.copy(train_dataset) # we do this to preserve data during splits\n",
    "y = np.copy(train_labels)\n",
    "# Split train_dataset into train_dataset and test_dataset 60-40\n",
    "sss = StratifiedShuffleSplit(n_splits=1,  test_size=0.40, random_state=np.random.seed(19))\n",
    "for train_ix, test_ix in sss.split(X,y):\n",
    "    #print(\"TRAIN:\", train_index, \"TEST:\", test_index)\n",
    "    train_dataset, test_dataset, train_labels, test_labels = X[train_ix,:,:], X[test_ix,:,:],y[train_ix], y[test_ix]    \n",
    "\n",
    "    \n",
    "X2= np.copy(test_dataset) # we do this to preserve data during splits\n",
    "y2 = np.copy(test_labels)\n",
    "    \n",
    "# Split remailin test_dataset into test_dataset and validation_dataset 20 -20\n",
    "sss = StratifiedShuffleSplit(n_splits=1,  test_size=0.50, random_state=np.random.seed(21))\n",
    "for test_ix, valid_ix in sss.split( X2, y2):\n",
    "    test_dataset, valid_dataset, test_labels, valid_labels = X2[test_ix,:,:], X2[valid_ix,:,:], y2[test_ix], y2[valid_ix]    \n",
    "\n",
    "\n",
    "print('Training:', train_dataset.shape, train_labels.shape)\n",
    "print('Validation:', valid_dataset.shape, valid_labels.shape)\n",
    "print('Testing:', test_dataset.shape, test_labels.shape)"
   ]
  },
  {
   "cell_type": "markdown",
   "metadata": {},
   "source": [
    "### Check the balance of labels in each of the datasets"
   ]
  },
  {
   "cell_type": "code",
   "execution_count": 13,
   "metadata": {
    "collapsed": false
   },
   "outputs": [
    {
     "name": "stdout",
     "output_type": "stream",
     "text": [
      "train dataset: \n",
      "\n",
      "label 1 : 4216 \n",
      "label 0 : 4216 \n",
      "\n",
      "\n",
      "cross-validation dataset: \n",
      "\n",
      "label 1 : 1406 \n",
      "label 0 : 1405 \n",
      "\n",
      "\n",
      "test dataset: \n",
      "\n",
      "label 1 : 1405 \n",
      "label 0 : 1406 \n",
      "\n",
      "\n"
     ]
    }
   ],
   "source": [
    "#Labels in train dataset\n",
    "\n",
    "print (\"train dataset: \\n\")\n",
    "print (\"label 1 : %d \" %np.sum([1 if t==1 else 0 for t in train_labels ]))\n",
    "print (\"label 0 : %d \" %np.sum([1 if t==0 else 0 for t in train_labels ]))\n",
    "print (\"\\n\")\n",
    "\n",
    "#Labels in cross-validation dataset\n",
    "\n",
    "print (\"cross-validation dataset: \\n\")\n",
    "print (\"label 1 : %d \" %np.sum([1 if t==1 else 0 for t in valid_labels ]))\n",
    "print (\"label 0 : %d \" %np.sum([1 if t==0 else 0 for t in valid_labels ]))\n",
    "print (\"\\n\")\n",
    "\n",
    "\n",
    "#Labels in test dataset\n",
    "\n",
    "print (\"test dataset: \\n\")\n",
    "print (\"label 1 : %d \" %np.sum([1 if t==1 else 0 for t in test_labels ]))\n",
    "print (\"label 0 : %d \" %np.sum([1 if t==0 else 0 for t in test_labels ]))\n",
    "print (\"\\n\")\n"
   ]
  },
  {
   "cell_type": "code",
   "execution_count": 15,
   "metadata": {
    "collapsed": false
   },
   "outputs": [],
   "source": [
    "#Randomize datasets\n",
    "def randomize(dataset, labels):\n",
    "  permutation = np.random.permutation(labels.shape[0])\n",
    "  shuffled_dataset = dataset[permutation,:,:]\n",
    "  shuffled_labels = labels[permutation]\n",
    "  return shuffled_dataset, shuffled_labels\n",
    "\n",
    "train_dataset, train_labels = randomize(train_dataset, train_labels)\n",
    "test_dataset, test_labels = randomize(test_dataset, test_labels)\n",
    "valid_dataset, valid_labels = randomize(valid_dataset, valid_labels)"
   ]
  },
  {
   "cell_type": "code",
   "execution_count": 16,
   "metadata": {
    "collapsed": true
   },
   "outputs": [],
   "source": [
    "# Save to pickle file\n",
    "pickle_file = 'exploration.pickle'\n",
    "\n",
    "try:\n",
    "  f = open(pickle_file, 'wb')\n",
    "  save = {\n",
    "    'train_dataset': train_dataset,\n",
    "    'train_labels': train_labels,\n",
    "    'valid_dataset': valid_dataset,\n",
    "    'valid_labels': valid_labels,\n",
    "    'test_dataset': test_dataset,\n",
    "    'test_labels': test_labels,\n",
    "    }\n",
    "  pickle.dump(save, f, pickle.HIGHEST_PROTOCOL)\n",
    "  f.close()\n",
    "except Exception as e:\n",
    "  print('Unable to save data to', pickle_file, ':', e)\n",
    "  raise"
   ]
  },
  {
   "cell_type": "code",
   "execution_count": 17,
   "metadata": {
    "collapsed": false
   },
   "outputs": [
    {
     "name": "stdout",
     "output_type": "stream",
     "text": [
      "('Compressed pickle size:', 57621837)\n"
     ]
    }
   ],
   "source": [
    "statinfo = os.stat(pickle_file)\n",
    "print('Compressed pickle size:', statinfo.st_size)"
   ]
  },
  {
   "cell_type": "markdown",
   "metadata": {},
   "source": [
    "# Logistic Regression"
   ]
  },
  {
   "cell_type": "code",
   "execution_count": 21,
   "metadata": {
    "collapsed": false
   },
   "outputs": [],
   "source": [
    "from sklearn.linear_model import LogisticRegression, LogisticRegressionCV\n",
    "regr = LogisticRegressionCV(cv=3, n_jobs= 2, random_state = np.random.seed(33))\n",
    "X_test = test_dataset.reshape(test_dataset.shape[0], image_width * image_height)\n",
    "y_test = test_labels\n",
    "\n",
    "X_valid = valid_dataset.reshape(valid_dataset.shape[0], image_width * image_height)\n",
    "y_valid = valid_labels"
   ]
  },
  {
   "cell_type": "code",
   "execution_count": 29,
   "metadata": {
    "collapsed": false,
    "scrolled": true
   },
   "outputs": [
    {
     "name": "stdout",
     "output_type": "stream",
     "text": [
      "Sample size 500 \n",
      "\n",
      "CPU times: user 656 ms, sys: 1.39 s, total: 2.04 s\n",
      "Wall time: 4.48 s\n",
      "\n",
      "\n",
      "Sample size 1000 \n",
      "\n",
      "CPU times: user 1.17 s, sys: 1.86 s, total: 3.03 s\n",
      "Wall time: 8.8 s\n",
      "\n",
      "\n",
      "Sample size 1500 \n",
      "\n",
      "CPU times: user 1.62 s, sys: 1.9 s, total: 3.52 s\n",
      "Wall time: 12.9 s\n",
      "\n",
      "\n",
      "Sample size 2000 \n",
      "\n",
      "CPU times: user 1.99 s, sys: 2.34 s, total: 4.33 s\n",
      "Wall time: 18 s\n",
      "\n",
      "\n",
      "Sample size 2500 \n",
      "\n",
      "CPU times: user 1.94 s, sys: 3.07 s, total: 5.01 s\n",
      "Wall time: 24.5 s\n",
      "\n",
      "\n",
      "Sample size 3000 \n",
      "\n",
      "CPU times: user 2.69 s, sys: 3.06 s, total: 5.74 s\n",
      "Wall time: 30.3 s\n",
      "\n",
      "\n",
      "Sample size 3500 \n",
      "\n",
      "CPU times: user 3.15 s, sys: 4.25 s, total: 7.4 s\n",
      "Wall time: 40 s\n",
      "\n",
      "\n",
      "Sample size 4000 \n",
      "\n",
      "CPU times: user 3.39 s, sys: 4.38 s, total: 7.77 s\n",
      "Wall time: 45.6 s\n",
      "\n",
      "\n",
      "Sample size 5000 \n",
      "\n",
      "CPU times: user 4.57 s, sys: 5.42 s, total: 9.99 s\n",
      "Wall time: 55.2 s\n",
      "\n",
      "\n",
      "Sample size 6000 \n",
      "\n",
      "CPU times: user 5.37 s, sys: 6 s, total: 11.4 s\n",
      "Wall time: 1min 8s\n",
      "\n",
      "\n",
      "Sample size 7000 \n",
      "\n",
      "CPU times: user 7.56 s, sys: 7.4 s, total: 15 s\n",
      "Wall time: 1min 18s\n",
      "\n",
      "\n",
      "Sample size 8000 \n",
      "\n",
      "CPU times: user 7.24 s, sys: 8.2 s, total: 15.4 s\n",
      "Wall time: 1min 24s\n",
      "\n",
      "\n"
     ]
    }
   ],
   "source": [
    "sample_array = [500, 1000, 1500, 2000, 2500, 3000, 3500, 4000, 5000, 6000, 7000, 8000]\n",
    "logistic_score = []\n",
    "pred_valid = []\n",
    "for sample_size in sample_array:\n",
    "    print \"Sample size %d \\n\" %sample_size\n",
    "    X_train = train_dataset[:sample_size].reshape(sample_size, image_width * image_height)\n",
    "    y_train = train_labels[:sample_size]\n",
    "    %time regr.fit(X_train, y_train)\n",
    "    pred_valid.append(regr.predict(X_valid))\n",
    "    logistic_score.append(regr.score(X_valid, y_valid))\n",
    "    print \"\\n\""
   ]
  },
  {
   "cell_type": "code",
   "execution_count": 30,
   "metadata": {
    "collapsed": false
   },
   "outputs": [
    {
     "data": {
      "text/plain": [
       "<matplotlib.text.Text at 0x7f2d9c2679d0>"
      ]
     },
     "execution_count": 30,
     "metadata": {},
     "output_type": "execute_result"
    },
    {
     "data": {
      "image/png": "[encoded data removed]",
      "text/plain": [
       "<matplotlib.figure.Figure at 0x7f2d8d172710>"
      ]
     },
     "metadata": {},
     "output_type": "display_data"
    }
   ],
   "source": [
    "plt.plot(sample_array, logistic_score)\n",
    "plt.xlabel('no samples')\n",
    "plt.ylabel('Accuracy')"
   ]
  },
  {
   "cell_type": "code",
   "execution_count": 52,
   "metadata": {
    "collapsed": false
   },
   "outputs": [
    {
     "name": "stdout",
     "output_type": "stream",
     "text": [
      "Sample size 2000 \n",
      "\n"
     ]
    },
    {
     "data": {
      "text/plain": [
       "GridSearchCV(cv=None, error_score='raise',\n",
       "       estimator=LogisticRegressionCV(Cs=10, class_weight=None, cv=2, dual=False,\n",
       "           fit_intercept=True, intercept_scaling=1.0, max_iter=100,\n",
       "           multi_class='ovr', n_jobs=2, penalty='l2', random_state=None,\n",
       "           refit=True, scoring=None, solver='lbfgs', tol=0.0001, verbose=0),\n",
       "       fit_params={}, iid=True, n_jobs=1,\n",
       "       param_grid={'Cs': [1, 5, 10], 'cv': [2], 'fit_intercept': [True, False]},\n",
       "       pre_dispatch='2*n_jobs', refit=True, scoring=None, verbose=0)"
      ]
     },
     "execution_count": 52,
     "metadata": {},
     "output_type": "execute_result"
    }
   ],
   "source": [
    "from sklearn.grid_search import GridSearchCV\n",
    "sample_size = 2000\n",
    "print \"Sample size %d \\n\" %sample_size\n",
    "X_train = train_dataset[:sample_size].reshape(sample_size, image_width * image_height)\n",
    "y_train = train_labels[:sample_size]\n",
    "\n",
    "param_grid = {'Cs': [1, 5, 10],\n",
    "              'fit_intercept': [True, False],\n",
    "              'cv': [2]}\n",
    "              # 'penalty': ['l1','l2']}\n",
    "clf = GridSearchCV(regr, param_grid)\n",
    "clf.fit(X_train,y_train)"
   ]
  },
  {
   "cell_type": "code",
   "execution_count": 53,
   "metadata": {
    "collapsed": false
   },
   "outputs": [
    {
     "name": "stdout",
     "output_type": "stream",
     "text": [
      "LogisticRegressionCV(Cs=10, class_weight=None, cv=2, dual=False,\n",
      "           fit_intercept=True, intercept_scaling=1.0, max_iter=100,\n",
      "           multi_class='ovr', n_jobs=2, penalty='l2', random_state=None,\n",
      "           refit=True, scoring=None, solver='lbfgs', tol=0.0001, verbose=0)\n"
     ]
    },
    {
     "ename": "NameError",
     "evalue": "name 'predict_labels' is not defined",
     "output_type": "error",
     "traceback": [
      "\u001b[0;31m---------------------------------------------------------------------------\u001b[0m",
      "\u001b[0;31mNameError\u001b[0m                                 Traceback (most recent call last)",
      "\u001b[0;32m<ipython-input-53-b14b7d569964>\u001b[0m in \u001b[0;36m<module>\u001b[0;34m()\u001b[0m\n\u001b[1;32m      4\u001b[0m \u001b[0;34m\u001b[0m\u001b[0m\n\u001b[1;32m      5\u001b[0m \u001b[0;31m# Report the final F1 score for training and testing after parameter tuning\u001b[0m\u001b[0;34m\u001b[0m\u001b[0;34m\u001b[0m\u001b[0m\n\u001b[0;32m----> 6\u001b[0;31m \u001b[0;32mprint\u001b[0m \u001b[0;34m\"Tuned model has a training F1 score of {:.4f}.\"\u001b[0m\u001b[0;34m.\u001b[0m\u001b[0mformat\u001b[0m\u001b[0;34m(\u001b[0m\u001b[0mpredict_labels\u001b[0m\u001b[0;34m(\u001b[0m\u001b[0mclf\u001b[0m\u001b[0;34m,\u001b[0m \u001b[0mX_train\u001b[0m\u001b[0;34m,\u001b[0m \u001b[0my_train\u001b[0m\u001b[0;34m)\u001b[0m\u001b[0;34m)\u001b[0m\u001b[0;34m\u001b[0m\u001b[0m\n\u001b[0m\u001b[1;32m      7\u001b[0m \u001b[0;32mprint\u001b[0m \u001b[0;34m\"Tuned model has a testing F1 score of {:.4f}.\"\u001b[0m\u001b[0;34m.\u001b[0m\u001b[0mformat\u001b[0m\u001b[0;34m(\u001b[0m\u001b[0mpredict_labels\u001b[0m\u001b[0;34m(\u001b[0m\u001b[0mclf\u001b[0m\u001b[0;34m,\u001b[0m \u001b[0mX_test\u001b[0m\u001b[0;34m,\u001b[0m \u001b[0my_test\u001b[0m\u001b[0;34m)\u001b[0m\u001b[0;34m)\u001b[0m\u001b[0;34m\u001b[0m\u001b[0m\n",
      "\u001b[0;31mNameError\u001b[0m: name 'predict_labels' is not defined"
     ]
    }
   ],
   "source": [
    "# Get the estimator\n",
    "print clf.best_estimator_\n",
    " \n",
    "\n",
    "# Report the final F1 score for training and testing after parameter tuning\n",
    "print \"Tuned model has a training F1 score of {:.4f}.\".format(predict_labels(clf, X_train, y_train))\n",
    "print \"Tuned model has a testing F1 score of {:.4f}.\".format(predict_labels(clf, X_test, y_test))"
   ]
  },
  {
   "cell_type": "code",
   "execution_count": 54,
   "metadata": {
    "collapsed": false
   },
   "outputs": [
    {
     "name": "stdout",
     "output_type": "stream",
     "text": [
      "Sample size 2000 \n",
      "\n",
      "0.833866951263\n"
     ]
    }
   ],
   "source": [
    "sample_size = 2000\n",
    "print \"Sample size %d \\n\" %sample_size\n",
    "X_train = train_dataset[:sample_size].reshape(sample_size,image_width * image_height)\n",
    "y_train = train_labels[:sample_size]\n",
    "#%time regr.fit(X_train, y_train)\n",
    "print(clf.score(X_test, y_test))"
   ]
  },
  {
   "cell_type": "code",
   "execution_count": 57,
   "metadata": {
    "collapsed": false
   },
   "outputs": [
    {
     "name": "stdout",
     "output_type": "stream",
     "text": [
      "Sample size 50 \n",
      "\n",
      "CPU times: user 3.97 s, sys: 6.38 s, total: 10.3 s\n",
      "Wall time: 8.11 s\n",
      "\n",
      "\n",
      "Sample size 100 \n",
      "\n",
      "CPU times: user 4.54 s, sys: 7.28 s, total: 11.8 s\n",
      "Wall time: 10.2 s\n",
      "\n",
      "\n",
      "Sample size 250 \n",
      "\n",
      "CPU times: user 7.91 s, sys: 8.89 s, total: 16.8 s\n",
      "Wall time: 17.5 s\n",
      "\n",
      "\n",
      "Sample size 500 \n",
      "\n",
      "CPU times: user 15.4 s, sys: 10.8 s, total: 26.2 s\n",
      "Wall time: 30.6 s\n",
      "\n",
      "\n",
      "Sample size 1000 \n",
      "\n",
      "CPU times: user 30.5 s, sys: 13.1 s, total: 43.6 s\n",
      "Wall time: 53.4 s\n",
      "\n",
      "\n",
      "Sample size 2000 \n",
      "\n",
      "CPU times: user 55.2 s, sys: 16.8 s, total: 1min 11s\n",
      "Wall time: 1min 49s\n",
      "\n",
      "\n",
      "Sample size 3000 \n",
      "\n",
      "CPU times: user 1min 29s, sys: 21.5 s, total: 1min 51s\n",
      "Wall time: 2min 53s\n",
      "\n",
      "\n",
      "Sample size 4000 \n",
      "\n",
      "CPU times: user 1min 58s, sys: 24.1 s, total: 2min 22s\n",
      "Wall time: 3min 40s\n",
      "\n",
      "\n"
     ]
    }
   ],
   "source": [
    "sample_array = [50, 100, 250, 500, 1000, 2000, 3000, 4000]\n",
    "logistic_score = []\n",
    "pred_valid = []\n",
    "for sample_size in sample_array:\n",
    "    print \"Sample size %d \\n\" %sample_size\n",
    "    X_train = train_dataset[:sample_size].reshape(sample_size, image_width * image_height)\n",
    "    y_train = train_labels[:sample_size]\n",
    "    %time clf.fit(X_train, y_train)\n",
    "    pred_valid.append(clf.predict(X_valid))\n",
    "    logistic_score.append(clf.score(X_valid, y_valid))\n",
    "    print \"\\n\""
   ]
  },
  {
   "cell_type": "code",
   "execution_count": 59,
   "metadata": {
    "collapsed": false
   },
   "outputs": [
    {
     "data": {
      "text/plain": [
       "<matplotlib.text.Text at 0x7f83b4fd8390>"
      ]
     },
     "execution_count": 59,
     "metadata": {},
     "output_type": "execute_result"
    },
    {
     "data": {
      "image/png": "[encoded data removed]",
      "text/plain": [
       "<matplotlib.figure.Figure at 0x7f83b5029790>"
      ]
     },
     "metadata": {},
     "output_type": "display_data"
    }
   ],
   "source": [
    "plt.plot(sample_array, logistic_score)\n",
    "plt.xlabel('no samples')\n",
    "plt.ylabel('Accuracy')"
   ]
  },
  {
   "cell_type": "code",
   "execution_count": null,
   "metadata": {
    "collapsed": true
   },
   "outputs": [],
   "source": []
  }
 ],
 "metadata": {
  "kernelspec": {
   "display_name": "Python 2.7 (tensorflow)",
   "language": "python",
   "name": "tensorflow"
  },
  "language_info": {
   "codemirror_mode": {
    "name": "ipython",
    "version": 2
   },
   "file_extension": ".py",
   "mimetype": "text/x-python",
   "name": "python",
   "nbconvert_exporter": "python",
   "pygments_lexer": "ipython2",
   "version": "2.7.6"
  }
 },
 "nbformat": 4,
 "nbformat_minor": 1
}
