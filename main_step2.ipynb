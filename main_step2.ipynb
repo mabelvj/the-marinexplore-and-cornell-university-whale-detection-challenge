{
 "cells": [
  {
   "cell_type": "markdown",
   "metadata": {
    "colab_type": "text",
    "id": "kR-4eNdK6lYS"
   },
   "source": [
    "Deep Learning\n",
    "=============\n",
    "\n",
    "Assignment 2\n",
    "------------\n",
    "\n",
    "Previously in `1_notmnist.ipynb`, we created a pickle with formatted datasets for training, development and testing on the [notMNIST dataset](http://yaroslavvb.blogspot.com/2011/09/notmnist-dataset.html).\n",
    "\n",
    "The goal of this assignment is to progressively train deeper and more accurate models using TensorFlow."
   ]
  },
  {
   "cell_type": "code",
   "execution_count": 2,
   "metadata": {
    "collapsed": false
   },
   "outputs": [
    {
     "data": {
      "text/plain": [
       "'/home/mabelvj/tensorflow'"
      ]
     },
     "execution_count": 2,
     "metadata": {},
     "output_type": "execute_result"
    }
   ],
   "source": [
    "import sys\n",
    "sys.prefix"
   ]
  },
  {
   "cell_type": "code",
   "execution_count": 3,
   "metadata": {
    "cellView": "both",
    "colab": {
     "autoexec": {
      "startup": false,
      "wait_interval": 0
     }
    },
    "colab_type": "code",
    "collapsed": false,
    "id": "JLpLa8Jt7Vu4"
   },
   "outputs": [],
   "source": [
    "# These are all the modules we'll be using later. Make sure you can import them\n",
    "# before proceeding further.\n",
    "from __future__ import print_function\n",
    "import numpy as np\n",
    "import tensorflow as tf\n",
    "from six.moves import cPickle as pickle\n",
    "from six.moves import range\n",
    "import matplotlib.pyplot as plt\n",
    "%matplotlib inline"
   ]
  },
  {
   "cell_type": "code",
   "execution_count": 4,
   "metadata": {
    "cellView": "both",
    "colab": {
     "autoexec": {
      "startup": false,
      "wait_interval": 0
     },
     "output_extras": [
      {
       "item_id": 1
      }
     ]
    },
    "colab_type": "code",
    "collapsed": false,
    "executionInfo": {
     "elapsed": 19456,
     "status": "ok",
     "timestamp": 1449847956073,
     "user": {
      "color": "",
      "displayName": "",
      "isAnonymous": false,
      "isMe": true,
      "permissionId": "",
      "photoUrl": "",
      "sessionId": "0",
      "userId": ""
     },
     "user_tz": 480
    },
    "id": "y3-cj1bpmuxc",
    "outputId": "0ddb1607-1fc4-4ddb-de28-6c7ab7fb0c33"
   },
   "outputs": [
    {
     "name": "stdout",
     "output_type": "stream",
     "text": [
      "Training set (8432, 32, 32) (8432,)\n",
      "Validation set (2811, 32, 32) (2811,)\n",
      "Test set (2811, 32, 32) (2811,)\n"
     ]
    }
   ],
   "source": [
    "pickle_file = 'exploration.pickle'\n",
    "\n",
    "with open(pickle_file, 'rb') as f:\n",
    "  save = pickle.load(f)\n",
    "  train_dataset = save['train_dataset']\n",
    "  train_labels = save['train_labels']\n",
    "  valid_dataset = save['valid_dataset']\n",
    "  valid_labels = save['valid_labels']\n",
    "  test_dataset = save['test_dataset']\n",
    "  test_labels = save['test_labels']\n",
    "  del save  # hint to help gc free up memory\n",
    "  print('Training set', train_dataset.shape, train_labels.shape)\n",
    "  print('Validation set', valid_dataset.shape, valid_labels.shape)\n",
    "  print('Test set', test_dataset.shape, test_labels.shape)"
   ]
  },
  {
   "cell_type": "code",
   "execution_count": 5,
   "metadata": {
    "cellView": "both",
    "colab": {
     "autoexec": {
      "startup": false,
      "wait_interval": 0
     },
     "output_extras": [
      {
       "item_id": 1
      }
     ]
    },
    "colab_type": "code",
    "collapsed": false,
    "executionInfo": {
     "elapsed": 19723,
     "status": "ok",
     "timestamp": 1449847956364,
     "user": {
      "color": "",
      "displayName": "",
      "isAnonymous": false,
      "isMe": true,
      "permissionId": "",
      "photoUrl": "",
      "sessionId": "0",
      "userId": ""
     },
     "user_tz": 480
    },
    "id": "IRSyYiIIGIzS",
    "outputId": "2ba0fc75-1487-4ace-a562-cf81cae82793"
   },
   "outputs": [
    {
     "name": "stdout",
     "output_type": "stream",
     "text": [
      "Training set (8432, 1024) (8432, 2)\n",
      "Validation set (2811, 1024) (2811, 2)\n",
      "Test set (2811, 1024) (2811, 2)\n"
     ]
    }
   ],
   "source": [
    "image_height = 32\n",
    "image_width = 32\n",
    "num_labels = 2\n",
    "\n",
    "def reformat(dataset, labels):\n",
    "  dataset = dataset.reshape((-1, image_width * image_height)).astype(np.float32)\n",
    "  # Map 0 to [1.0, 0.0, 0.0 ...], 1 to [0.0, 1.0, 0.0 ...]\n",
    "  labels = (np.arange(num_labels) == labels[:,None]).astype(np.float32)\n",
    "  return dataset, labels\n",
    "train_dataset, train_labels = reformat(train_dataset, train_labels)\n",
    "valid_dataset, valid_labels = reformat(valid_dataset, valid_labels)\n",
    "test_dataset, test_labels = reformat(test_dataset, test_labels)\n",
    "print('Training set', train_dataset.shape, train_labels.shape)\n",
    "print('Validation set', valid_dataset.shape, valid_labels.shape)\n",
    "print('Test set', test_dataset.shape, test_labels.shape)"
   ]
  },
  {
   "cell_type": "code",
   "execution_count": 10,
   "metadata": {
    "collapsed": true
   },
   "outputs": [],
   "source": [
    "def randomize(dataset, labels):\n",
    "  permutation = np.random.permutation(labels.shape[0])\n",
    "  shuffled_dataset = dataset[permutation,:]\n",
    "  shuffled_labels = labels[permutation]\n",
    "  return shuffled_dataset, shuffled_labels\n",
    "\n",
    "def accuracy(predictions, labels):\n",
    "  return (100.0 * np.sum(np.argmax(predictions, 1) == np.argmax(labels, 1))\n",
    "          / predictions.shape[0])"
   ]
  },
  {
   "cell_type": "code",
   "execution_count": 31,
   "metadata": {
    "cellView": "both",
    "colab": {
     "autoexec": {
      "startup": false,
      "wait_interval": 0
     }
    },
    "colab_type": "code",
    "collapsed": false,
    "id": "Nfv39qvtvOl_"
   },
   "outputs": [],
   "source": [
    "# With gradient descent training, even this much data is prohibitive.\n",
    "# Subset the training data for faster turnaround.\n",
    "train_subset = 8000\n",
    "num_steps= 0\n",
    "\n",
    "\n",
    "graph = tf.Graph()\n",
    "with graph.as_default():\n",
    "\n",
    "  # Input data.\n",
    "  # Load the training, validation and test data into constants that are\n",
    "  # attached to the graph.\n",
    "  randomized_dataset, randomized_labels = randomize( train_dataset, train_labels)\n",
    "  tf_train_dataset = tf.constant(randomized_dataset[:train_subset, :]) # still one dimension\n",
    "  tf_train_labels = tf.constant(randomized_labels[:train_subset])\n",
    "  tf_valid_dataset = tf.constant(valid_dataset)\n",
    "  tf_test_dataset = tf.constant(test_dataset)\n",
    "  \n",
    "  # Variables.\n",
    "  # These are the parameters that we are going to be training. The weight\n",
    "  # matrix will be initialized using random values following a (truncated)\n",
    "  # normal distribution. The biases get initialized to zero.\n",
    "  weights = tf.Variable(\n",
    "    tf.truncated_normal([image_height * image_width, num_labels]))\n",
    "  biases = tf.Variable(tf.zeros([num_labels]))\n",
    "  \n",
    "  # Training computation.\n",
    "  # We multiply the inputs with the weight matrix, and add biases. We compute\n",
    "  # the softmax and cross-entropy (it's one operation in TensorFlow, because\n",
    "  # it's very common, and it can be optimized). We take the average of this\n",
    "  # cross-entropy across all training examples: that's our loss.\n",
    "  logits = tf.matmul(tf_train_dataset, weights) + biases\n",
    "  loss = tf.reduce_mean(\n",
    "    tf.nn.softmax_cross_entropy_with_logits(logits, tf_train_labels))\n",
    "  \n",
    "  # Optimizer.\n",
    "  # We are going to find the minimum of this loss using gradient descent.\n",
    "  #optimizer = tf.train.GradientDescentOptimizer(0.01).minimize(loss)\n",
    "  #decaying learning rate:\n",
    "  starting_learning_rate = 0.0001\n",
    "  learning_rate = tf.train.exponential_decay(starting_learning_rate, num_steps, 5001, 0.9, staircase=True)\n",
    "  optimizer = tf.train.GradientDescentOptimizer(learning_rate).minimize(loss)  \n",
    "    \n",
    "  # Predictions for the training, validation, and test data.\n",
    "  # These are not part of training, but merely here so that we can report\n",
    "  # accuracy figures as we train.\n",
    "  train_prediction = tf.nn.softmax(logits)\n",
    "  valid_prediction = tf.nn.softmax(\n",
    "    tf.matmul(tf_valid_dataset, weights) + biases)\n",
    "  test_prediction = tf.nn.softmax(tf.matmul(tf_test_dataset, weights) + biases)"
   ]
  },
  {
   "cell_type": "markdown",
   "metadata": {
    "colab_type": "text",
    "id": "KQcL4uqISHjP"
   },
   "source": [
    "Let's run this computation and iterate:"
   ]
  },
  {
   "cell_type": "code",
   "execution_count": 36,
   "metadata": {
    "cellView": "both",
    "colab": {
     "autoexec": {
      "startup": false,
      "wait_interval": 0
     },
     "output_extras": [
      {
       "item_id": 9
      }
     ]
    },
    "colab_type": "code",
    "collapsed": false,
    "executionInfo": {
     "elapsed": 57454,
     "status": "ok",
     "timestamp": 1449847994134,
     "user": {
      "color": "",
      "displayName": "",
      "isAnonymous": false,
      "isMe": true,
      "permissionId": "",
      "photoUrl": "",
      "sessionId": "0",
      "userId": ""
     },
     "user_tz": 480
    },
    "id": "z2cjdenH869W",
    "outputId": "4c037ba1-b526-4d8e-e632-91e2a0333267"
   },
   "outputs": [
    {
     "name": "stdout",
     "output_type": "stream",
     "text": [
      "num_steps:3001\n",
      "Initialized\n",
      "Loss at step 0: 1094.954468\n",
      "Training accuracy: 50.1%\n",
      "Validation accuracy: 42.4%\n",
      "AUC: 0.424\n",
      ".................\n",
      "Loss at step 250: 453.246674\n",
      "Training accuracy: 50.2%\n",
      "Validation accuracy: 67.1%\n",
      "AUC: 0.673\n",
      ".................\n",
      "Loss at step 500: 355.413696\n",
      "Training accuracy: 49.8%\n",
      "Validation accuracy: 72.9%\n",
      "AUC: 0.733\n",
      ".................\n",
      "Loss at step 750: 315.018738\n",
      "Training accuracy: 49.7%\n",
      "Validation accuracy: 75.3%\n",
      "AUC: 0.759\n",
      ".................\n",
      "Loss at step 1000: 290.131134\n",
      "Training accuracy: 49.9%\n",
      "Validation accuracy: 76.8%\n",
      "AUC: 0.773\n",
      ".................\n",
      "Loss at step 1250: 271.531250\n",
      "Training accuracy: 50.0%\n",
      "Validation accuracy: 77.2%\n",
      "AUC: 0.778\n",
      ".................\n",
      "Loss at step 1500: 256.387909\n",
      "Training accuracy: 50.0%\n",
      "Validation accuracy: 77.7%\n",
      "AUC: 0.782\n",
      ".................\n",
      "Loss at step 1750: 243.455154\n",
      "Training accuracy: 50.0%\n",
      "Validation accuracy: 78.1%\n",
      "AUC: 0.786\n",
      ".................\n",
      "Loss at step 2000: 232.114594\n",
      "Training accuracy: 50.0%\n",
      "Validation accuracy: 78.2%\n",
      "AUC: 0.787\n",
      ".................\n",
      "Loss at step 2250: 221.773590\n",
      "Training accuracy: 50.2%\n",
      "Validation accuracy: 78.4%\n",
      "AUC: 0.788\n",
      ".................\n",
      "Loss at step 2500: 212.241058\n",
      "Training accuracy: 50.2%\n",
      "Validation accuracy: 78.4%\n",
      "AUC: 0.789\n",
      ".................\n",
      "Loss at step 2750: 203.405655\n",
      "Training accuracy: 50.2%\n",
      "Validation accuracy: 78.7%\n",
      "AUC: 0.791\n",
      ".................\n",
      "Loss at step 3000: 195.209198\n",
      "Training accuracy: 50.1%\n",
      "Validation accuracy: 78.8%\n",
      "AUC: 0.791\n",
      ".................\n",
      "Test accuracy: 78.4%\n",
      "Test AUC ROC: 0.789\n"
     ]
    }
   ],
   "source": [
    "#num_steps = 501\n",
    "#num_steps = train_dataset.shape[0] // batch_size\n",
    "\n",
    "num_steps = 3001\n",
    "print (\"num_steps:%d\" %num_steps)\n",
    "\n",
    "valid_accuracy = []\n",
    "valid_auc = []\n",
    "test_accuracy = []\n",
    "test_auc = []\n",
    "pred_step = []\n",
    "from sklearn.metrics import roc_auc_score\n",
    "\n",
    "\n",
    "with tf.Session(graph=graph) as session:\n",
    "  # This is a one-time operation which ensures the parameters get initialized as\n",
    "  # we described in the graph: random weights for the matrix, zeros for the\n",
    "  # biases. \n",
    "  tf.initialize_all_variables().run()\n",
    "  print('Initialized')\n",
    "  for step in range(num_steps):\n",
    "    # Run the computations. We tell .run() that we want to run the optimizer,\n",
    "    # and get the loss value and the training predictions returned as numpy\n",
    "    # arrays.\n",
    "    \n",
    "    _, l, predictions = session.run([optimizer, loss, train_prediction])\n",
    "    if (step % 250 == 0):\n",
    "      print('Loss at step %d: %f' % (step, l))\n",
    "\n",
    "      print('Training accuracy: %.1f%%' % accuracy(\n",
    "        predictions, train_labels[:train_subset, :]))\n",
    "\n",
    "      # Calling .eval() on valid_prediction is basically like calling run(), but\n",
    "      # just to get that one numpy array. Note that it recomputes all its graph\n",
    "      # dependencies.\n",
    "      print('Validation accuracy: %.1f%%' % accuracy(valid_prediction.eval(), valid_labels))\n",
    "      print('AUC: %.3f' %  roc_auc_score(valid_labels, valid_prediction.eval()))\n",
    "      print (\".................\")\n",
    "        \n",
    "    if (step % 150 == 0):\n",
    "        valid_accuracy.append(accuracy(\n",
    "                valid_prediction.eval(), valid_labels))\n",
    "        valid_auc.append(roc_auc_score(valid_labels, valid_prediction.eval()))\n",
    "        test_accuracy.append(accuracy(\n",
    "                test_prediction.eval(), test_labels))\n",
    "        test_auc.append(roc_auc_score(test_labels, test_prediction.eval()))\n",
    "        pred_step.append(step)\n",
    "  print('Test accuracy: %.1f%%' % accuracy(test_prediction.eval(), test_labels))\n",
    "  print('Test AUC ROC: %.3f' %  roc_auc_score(test_labels, test_prediction.eval())) "
   ]
  },
  {
   "cell_type": "code",
   "execution_count": 37,
   "metadata": {
    "collapsed": false
   },
   "outputs": [
    {
     "data": {
      "image/png": "[encoded data removed]",
      "text/plain": [
       "<matplotlib.figure.Figure at 0x7f08d02ae5d0>"
      ]
     },
     "metadata": {},
     "output_type": "display_data"
    },
    {
     "data": {
      "image/png": "[encoded data removed]",
      "text/plain": [
       "<matplotlib.figure.Figure at 0x7f08d20c6f90>"
      ]
     },
     "metadata": {},
     "output_type": "display_data"
    }
   ],
   "source": [
    "%matplotlib inline \n",
    "plt.plot(pred_step,valid_accuracy, label= 'validation')\n",
    "plt.plot(pred_step,test_accuracy, label= 'test')\n",
    "plt.xlabel('steps')\n",
    "plt.ylabel('accuracy')\n",
    "plt.legend(loc= \"best\")\n",
    "plt.title (\"Accuracy\")\n",
    "plt.show()\n",
    "\n",
    "plt.plot(pred_step,valid_auc, label= 'validation')\n",
    "plt.plot(pred_step,test_auc, label= 'test')\n",
    "plt.xlabel('steps')\n",
    "plt.ylabel('AUC')\n",
    "plt.legend(loc= \"best\")\n",
    "plt.title (\"AUC\")\n",
    "plt.show()\n",
    "\n"
   ]
  },
  {
   "cell_type": "markdown",
   "metadata": {
    "colab_type": "text",
    "id": "x68f-hxRGm3H"
   },
   "source": [
    "## Stochastic gradient descent\n",
    "Let's now switch to stochastic gradient descent training instead, which is much faster.\n",
    "\n",
    "The graph will be similar, except that instead of holding all the training data into a constant node, we create a `Placeholder` node which will be fed actual data at every call of `session.run()`."
   ]
  },
  {
   "cell_type": "code",
   "execution_count": 19,
   "metadata": {
    "cellView": "both",
    "colab": {
     "autoexec": {
      "startup": false,
      "wait_interval": 0
     }
    },
    "colab_type": "code",
    "collapsed": false,
    "id": "qhPMzWYRGrzM"
   },
   "outputs": [],
   "source": [
    "batch_size = 10\n",
    "num_steps = 0\n",
    "\n"
   ]
  },
  {
   "cell_type": "markdown",
   "metadata": {
    "colab_type": "text",
    "id": "XmVZESmtG4JH"
   },
   "source": [
    "Let's run it:"
   ]
  },
  {
   "cell_type": "code",
   "execution_count": 131,
   "metadata": {
    "cellView": "both",
    "colab": {
     "autoexec": {
      "startup": false,
      "wait_interval": 0
     },
     "output_extras": [
      {
       "item_id": 6
      }
     ]
    },
    "colab_type": "code",
    "collapsed": false,
    "executionInfo": {
     "elapsed": 66292,
     "status": "ok",
     "timestamp": 1449848003013,
     "user": {
      "color": "",
      "displayName": "",
      "isAnonymous": false,
      "isMe": true,
      "permissionId": "",
      "photoUrl": "",
      "sessionId": "0",
      "userId": ""
     },
     "user_tz": 480
    },
    "id": "FoF91pknG_YW",
    "outputId": "d255c80e-954d-4183-ca1c-c7333ce91d0a"
   },
   "outputs": [
    {
     "name": "stdout",
     "output_type": "stream",
     "text": [
      "batch size:5 \n",
      "\n",
      "num_steps:1686\n",
      "Initialized\n",
      "Minibatch loss at step 0: 2515.860596\n",
      "Minibatch accuracy: 60.0%\n",
      "Validation accuracy: 50.2%\n",
      "Minibatch loss at step 100: 2049.219727\n",
      "Minibatch accuracy: 60.0%\n",
      "Validation accuracy: 50.0%\n",
      "Minibatch loss at step 200: 443.845459\n",
      "Minibatch accuracy: 60.0%\n",
      "Validation accuracy: 49.2%\n",
      "Minibatch loss at step 300: 867.277954\n",
      "Minibatch accuracy: 60.0%\n",
      "Validation accuracy: 48.2%\n",
      "Minibatch loss at step 400: 630.011475\n",
      "Minibatch accuracy: 20.0%\n",
      "Validation accuracy: 48.6%\n",
      "Minibatch loss at step 500: 578.139771\n",
      "Minibatch accuracy: 80.0%\n",
      "Validation accuracy: 49.8%\n",
      "Minibatch loss at step 600: 575.995422\n",
      "Minibatch accuracy: 80.0%\n",
      "Validation accuracy: 50.5%\n",
      "Minibatch loss at step 700: 694.829224\n",
      "Minibatch accuracy: 60.0%\n",
      "Validation accuracy: 52.0%\n",
      "Minibatch loss at step 800: 814.813965\n",
      "Minibatch accuracy: 60.0%\n",
      "Validation accuracy: 53.9%\n",
      "Minibatch loss at step 900: 437.166901\n",
      "Minibatch accuracy: 80.0%\n",
      "Validation accuracy: 55.0%\n",
      "Minibatch loss at step 1000: 364.769867\n",
      "Minibatch accuracy: 60.0%\n",
      "Validation accuracy: 55.6%\n",
      "Minibatch loss at step 1100: 1295.072998\n",
      "Minibatch accuracy: 40.0%\n",
      "Validation accuracy: 56.8%\n",
      "Minibatch loss at step 1200: 656.158325\n",
      "Minibatch accuracy: 60.0%\n",
      "Validation accuracy: 57.6%\n",
      "Minibatch loss at step 1300: 164.468430\n",
      "Minibatch accuracy: 80.0%\n",
      "Validation accuracy: 58.2%\n",
      "Minibatch loss at step 1400: 631.751343\n",
      "Minibatch accuracy: 60.0%\n",
      "Validation accuracy: 59.3%\n",
      "Minibatch loss at step 1500: 597.316223\n",
      "Minibatch accuracy: 80.0%\n",
      "Validation accuracy: 60.0%\n",
      "Minibatch loss at step 1600: 836.395142\n",
      "Minibatch accuracy: 60.0%\n",
      "Validation accuracy: 60.7%\n",
      "Test accuracy: 62.1%\n",
      "Test accuracy: 62.1%\n",
      "Test AUC ROC: 0.624\n",
      "-----------------------------------------\n",
      "\n",
      "batch size:10 \n",
      "\n",
      "num_steps:843\n",
      "Initialized\n",
      "Minibatch loss at step 0: 887.277344\n",
      "Minibatch accuracy: 70.0%\n",
      "Validation accuracy: 52.3%\n",
      "Minibatch loss at step 100: 458.877441\n",
      "Minibatch accuracy: 60.0%\n",
      "Validation accuracy: 61.7%\n",
      "Minibatch loss at step 200: 197.855011\n",
      "Minibatch accuracy: 70.0%\n",
      "Validation accuracy: 65.5%\n",
      "Minibatch loss at step 300: 223.097687\n",
      "Minibatch accuracy: 70.0%\n",
      "Validation accuracy: 67.5%\n",
      "Minibatch loss at step 400: 0.000000\n",
      "Minibatch accuracy: 100.0%\n",
      "Validation accuracy: 69.8%\n",
      "Minibatch loss at step 500: 431.556458\n",
      "Minibatch accuracy: 60.0%\n",
      "Validation accuracy: 71.9%\n",
      "Minibatch loss at step 600: 81.102402\n",
      "Minibatch accuracy: 90.0%\n",
      "Validation accuracy: 73.7%\n",
      "Minibatch loss at step 700: 383.601471\n",
      "Minibatch accuracy: 90.0%\n",
      "Validation accuracy: 73.8%\n",
      "Minibatch loss at step 800: 551.348328\n",
      "Minibatch accuracy: 70.0%\n",
      "Validation accuracy: 74.2%\n",
      "Test accuracy: 74.2%\n",
      "Test accuracy: 74.2%\n",
      "Test AUC ROC: 0.746\n",
      "-----------------------------------------\n",
      "\n",
      "batch size:15 \n",
      "\n",
      "num_steps:562\n",
      "Initialized\n",
      "Minibatch loss at step 0: 1253.273804\n",
      "Minibatch accuracy: 40.0%\n",
      "Validation accuracy: 45.1%\n",
      "Minibatch loss at step 100: 530.974365\n",
      "Minibatch accuracy: 73.3%\n",
      "Validation accuracy: 68.3%\n",
      "Minibatch loss at step 200: 460.206451\n",
      "Minibatch accuracy: 86.7%\n",
      "Validation accuracy: 72.5%\n",
      "Minibatch loss at step 300: 259.724792\n",
      "Minibatch accuracy: 93.3%\n",
      "Validation accuracy: 76.8%\n",
      "Minibatch loss at step 400: 241.276535\n",
      "Minibatch accuracy: 73.3%\n",
      "Validation accuracy: 77.5%\n",
      "Minibatch loss at step 500: 116.011314\n",
      "Minibatch accuracy: 80.0%\n",
      "Validation accuracy: 74.8%\n",
      "Test accuracy: 79.7%\n",
      "Test accuracy: 79.7%\n",
      "Test AUC ROC: 0.801\n",
      "-----------------------------------------\n",
      "\n"
     ]
    }
   ],
   "source": [
    "batch_size_array = [5, 10, 15]\n",
    "lr = [1e-5, 1e-4, 5e-4]\n",
    "valid_accuracy_array = []\n",
    "valid_auc_array = []\n",
    "test_accuracy_array = []\n",
    "test_auc_array = []\n",
    "pred_step_array = []\n",
    "from sklearn.metrics import roc_auc_score\n",
    "\n",
    "for i, batch_size in enumerate(batch_size_array):\n",
    "        \n",
    "    print (\"batch size:%d \\n\"%batch_size)\n",
    "    num_steps = train_dataset.shape[0] // batch_size\n",
    "    print (\"num_steps:%d\" %num_steps)\n",
    "\n",
    "    valid_accuracy = []\n",
    "    valid_auc = []\n",
    "    test_accuracy = []\n",
    "    test_auc = []\n",
    "    pred_step = []\n",
    "\n",
    "    graph = tf.Graph()\n",
    "    with graph.as_default():\n",
    "\n",
    "      # Input data. For the training data, we use a placeholder that will be fed\n",
    "      # at run time with a training minibatch.\n",
    "      tf_train_dataset = tf.placeholder(tf.float32,\n",
    "                                        shape=(batch_size, image_width * image_height))\n",
    "      tf_train_labels = tf.placeholder(tf.float32, shape=(batch_size, num_labels))\n",
    "      tf_valid_dataset = tf.constant(valid_dataset)\n",
    "      tf_test_dataset = tf.constant(test_dataset)\n",
    "\n",
    "      # Variables.\n",
    "      weights = tf.Variable(\n",
    "        tf.truncated_normal([image_width * image_height, num_labels]))\n",
    "      biases = tf.Variable(tf.zeros([num_labels]))\n",
    "\n",
    "      # Training computation.\n",
    "      logits = tf.matmul(tf_train_dataset, weights) + biases\n",
    "      loss = tf.reduce_mean(\n",
    "        tf.nn.softmax_cross_entropy_with_logits(logits, tf_train_labels))\n",
    "\n",
    "      # Optimizer.\n",
    "      # We are going to find the minimum of this loss using gradient descent.\n",
    "      #optimizer = tf.train.GradientDescentOptimizer(0.01).minimize(loss)\n",
    "      #decaying learning rate:\n",
    "      \n",
    "      starting_learning_rate = lr[i]\n",
    "      learning_rate = tf.train.exponential_decay(starting_learning_rate, num_steps, num_steps*0.75,\n",
    "                                                 0.75, staircase=True)\n",
    "      optimizer = tf.train.GradientDescentOptimizer(learning_rate).minimize(loss)  \n",
    "\n",
    "      # Predictions for the training, validation, and test data.\n",
    "      train_prediction = tf.nn.softmax(logits)\n",
    "      valid_prediction = tf.nn.softmax(\n",
    "        tf.matmul(tf_valid_dataset, weights) + biases)\n",
    "      test_prediction = tf.nn.softmax(tf.matmul(tf_test_dataset, weights) + biases)\n",
    "    \n",
    "  \n",
    "    \n",
    "\n",
    "    with tf.Session(graph=graph) as session:\n",
    "      tf.initialize_all_variables().run()\n",
    "      print(\"Initialized\")\n",
    "      for step in range(num_steps):\n",
    "        # Pick an offset within the training data, which has been randomized.\n",
    "        # Note: we could use better randomization across epochs.\n",
    "        offset = (step * batch_size) % (train_labels.shape[0] - batch_size)\n",
    "        # Generate a minibatch.\n",
    "        #batch_data = train_dataset[offset:(offset + batch_size), :]\n",
    "        #batch_labels = train_labels[offset:(offset + batch_size), :]\n",
    "        batch_data, batch_labels = randomize(\n",
    "            train_dataset[offset:(offset + batch_size), :],  train_labels[offset:(offset + batch_size), :])\n",
    "        # Prepare a dictionary telling the session where to feed the minibatch.\n",
    "        # The key of the dictionary is the placeholder node of the graph to be fed,\n",
    "        # and the value is the numpy array to feed to it.\n",
    "        feed_dict = {tf_train_dataset : batch_data, tf_train_labels : batch_labels}\n",
    "        _, l, predictions = session.run(\n",
    "          [optimizer, loss, train_prediction], feed_dict=feed_dict)\n",
    "        if (step % 100 == 0):\n",
    "          print(\"Minibatch loss at step %d: %f\" % (step, l))\n",
    "          print(\"Minibatch accuracy: %.1f%%\" % accuracy(predictions, batch_labels))\n",
    "          print(\"Validation accuracy: %.1f%%\" % accuracy(\n",
    "            valid_prediction.eval(), valid_labels))\n",
    "          valid_accuracy.append(accuracy(\n",
    "                valid_prediction.eval(), valid_labels))\n",
    "          valid_auc.append(roc_auc_score(valid_labels, valid_prediction.eval()))\n",
    "          test_accuracy.append(accuracy(\n",
    "                test_prediction.eval(), test_labels))\n",
    "          test_auc.append(roc_auc_score(test_labels, test_prediction.eval()))\n",
    "          pred_step.append(step)\n",
    "      print(\"Test accuracy: %.1f%%\" % accuracy(test_prediction.eval(), test_labels))\n",
    "      valid_accuracy_array.append(valid_accuracy)\n",
    "      valid_auc_array.append(valid_auc)\n",
    "      test_accuracy_array.append(test_accuracy)\n",
    "      test_auc_array.append(test_auc)\n",
    "      pred_step_array.append(pred_step)\n",
    "      print('Test accuracy: %.1f%%' % accuracy(test_prediction.eval(), test_labels))\n",
    "      print('Test AUC ROC: %.3f' %  roc_auc_score(test_labels, test_prediction.eval())) \n",
    "      print(\"-----------------------------------------\\n\")"
   ]
  },
  {
   "cell_type": "code",
   "execution_count": 133,
   "metadata": {
    "collapsed": false
   },
   "outputs": [
    {
     "data": {
      "image/png": "[encoded data removed]",
      "text/plain": [
       "<matplotlib.figure.Figure at 0x7f0e98bcd490>"
      ]
     },
     "metadata": {},
     "output_type": "display_data"
    }
   ],
   "source": [
    "for i in range(len(pred_step_array)):\n",
    "    plt.plot(pred_step_array[i],valid_auc_array[i], label= 'validation %d'%batch_size_array[i])\n",
    "    plt.plot(pred_step_array[i],test_auc_array[i], label= 'test %d'%batch_size_array[i])\n",
    "plt.xlabel('steps')\n",
    "plt.ylabel('AUC')\n",
    "plt.legend(loc= \"best\")\n",
    "plt.title (\"AUC\")\n",
    "plt.show()\n",
    "\n"
   ]
  },
  {
   "cell_type": "markdown",
   "metadata": {
    "colab_type": "text",
    "id": "7omWxtvLLxik"
   },
   "source": [
    "---\n",
    "Problem\n",
    "-------\n",
    "\n",
    "Turn the logistic regression example with SGD into a 1-hidden layer neural network with rectified linear units [nn.relu()](https://www.tensorflow.org/versions/r0.7/api_docs/python/nn.html#relu) and 1024 hidden nodes. This model should improve your validation / test accuracy.\n",
    "\n",
    "---"
   ]
  },
  {
   "cell_type": "code",
   "execution_count": 18,
   "metadata": {
    "collapsed": false
   },
   "outputs": [],
   "source": [
    "batch_size = 500\n",
    "hidden_nodes= 512\n",
    "graph = tf.Graph()\n",
    "with graph.as_default():\n",
    "\n",
    "  # Input data. For the training data, we use a placeholder that will be fed\n",
    "  # at run time with a training minibatch.\n",
    "  tf_train_dataset = tf.placeholder(tf.float32,\n",
    "                                    shape=(batch_size, image_size * image_size))\n",
    "  tf_train_labels = tf.placeholder(tf.float32, shape=(batch_size, num_labels))\n",
    "  tf_valid_dataset = tf.constant(valid_dataset)\n",
    "  tf_test_dataset = tf.constant(test_dataset)\n",
    "\n",
    "    # Variables.\n",
    "  weights1 = tf.Variable(\n",
    "            tf.truncated_normal([image_size * image_size, hidden_nodes]))\n",
    "  biases1 = tf.Variable(tf.zeros([ hidden_nodes]))\n",
    "  weights2 = tf.Variable(tf.truncated_normal([hidden_nodes,num_labels]))\n",
    "  biases2 = tf.Variable(tf.zeros([num_labels]))\n",
    "  \n",
    "   \n",
    "  def forward_prop(inp):\n",
    "        h1 = tf.nn.relu(tf.matmul(inp, weights1)+biases1)\n",
    "        return tf.matmul(h1,weights2) + biases2\n",
    "    \n",
    "  # Training computation.\n",
    "  logits = forward_prop(tf_train_dataset)\n",
    "    \n",
    "  loss = tf.reduce_mean(\n",
    "    tf.nn.softmax_cross_entropy_with_logits(logits, tf_train_labels))\n",
    "  \n",
    "  # Optimizer.\n",
    "  optimizer = tf.train.GradientDescentOptimizer(0.5).minimize(loss)\n",
    "  \n",
    "  # Predictions for the training, validation, and test data.\n",
    "  train_prediction = tf.nn.softmax(logits)\n",
    "  valid_prediction = tf.nn.softmax(forward_prop(tf_valid_dataset))\n",
    "  test_prediction = tf.nn.softmax(forward_prop(tf_test_dataset))"
   ]
  },
  {
   "cell_type": "code",
   "execution_count": 24,
   "metadata": {
    "collapsed": false
   },
   "outputs": [],
   "source": [
    "def randomize_linear(dataset, labels):\n",
    "  permutation = np.random.permutation(labels.shape[0])\n",
    "  shuffled_dataset = dataset[permutation,:]\n",
    "  shuffled_labels = labels[permutation]\n",
    "  return shuffled_dataset, shuffled_labels"
   ]
  },
  {
   "cell_type": "code",
   "execution_count": 27,
   "metadata": {
    "collapsed": false
   },
   "outputs": [
    {
     "name": "stdout",
     "output_type": "stream",
     "text": [
      "Initialized\n",
      "Minibatch loss at step 0: 519.659302\n",
      "Minibatch accuracy: 48.2%\n",
      "Validation accuracy: 74.7%\n",
      "Minibatch loss at step 500: 0.597418\n",
      "Minibatch accuracy: 63.0%\n",
      "Validation accuracy: 62.1%\n",
      "Minibatch loss at step 1000: 0.537874\n",
      "Minibatch accuracy: 67.4%\n",
      "Validation accuracy: 65.0%\n",
      "Minibatch loss at step 1500: 0.496857\n",
      "Minibatch accuracy: 70.0%\n",
      "Validation accuracy: 68.4%\n",
      "Minibatch loss at step 2000: 0.464113\n",
      "Minibatch accuracy: 73.4%\n",
      "Validation accuracy: 69.7%\n",
      "Minibatch loss at step 2500: 0.435398\n",
      "Minibatch accuracy: 79.0%\n",
      "Validation accuracy: 70.5%\n",
      "Minibatch loss at step 3000: 0.437727\n",
      "Minibatch accuracy: 75.4%\n",
      "Validation accuracy: 71.7%\n",
      "Test accuracy: 72.1%\n"
     ]
    }
   ],
   "source": [
    "num_steps = 3001\n",
    "\n",
    "with tf.Session(graph=graph) as session:\n",
    "  tf.initialize_all_variables().run()\n",
    "  print(\"Initialized\")\n",
    "  for step in range(num_steps):\n",
    "    # Pick an offset within the training data, which has been randomized.\n",
    "    # Note: we could use better randomization across epochs.\n",
    "    offset = (step * batch_size) % (train_labels.shape[0] - batch_size)\n",
    "    # Generate a minibatch.\n",
    "\n",
    "    X_batch, Y_batch = randomize_linear(\n",
    "        train_dataset,  train_labels)    \n",
    "    batch_data = X_batch[offset:(offset + batch_size), :]\n",
    "    batch_labels = Y_batch[offset:(offset + batch_size), :]\n",
    "    # Prepare a dictionary telling the session where to feed the minibatch.\n",
    "    # The key of the dictionary is the placeholder node of the graph to be fed,\n",
    "    # and the value is the numpy array to feed to it.\n",
    "    feed_dict = {tf_train_dataset : batch_data, tf_train_labels : batch_labels}\n",
    "    _, l, predictions = session.run(\n",
    "      [optimizer, loss, train_prediction], feed_dict=feed_dict)\n",
    "    if (step % 500 == 0):\n",
    "      print(\"Minibatch loss at step %d: %f\" % (step, l))\n",
    "      print(\"Minibatch accuracy: %.1f%%\" % accuracy(predictions, batch_labels))\n",
    "      print(\"Validation accuracy: %.1f%%\" % accuracy(\n",
    "        valid_prediction.eval(), valid_labels))\n",
    "  print(\"Test accuracy: %.1f%%\" % accuracy(test_prediction.eval(), test_labels))"
   ]
  },
  {
   "cell_type": "code",
   "execution_count": null,
   "metadata": {
    "collapsed": true
   },
   "outputs": [],
   "source": [
    "plt.plot(pred_step,valid_accuracy, label= 'validation')\n",
    "plt.plot(pred_step,test_accuracy, label= 'test')\n",
    "plt.xlabel('steps')\n",
    "plt.ylabel('accuracy')\n",
    "plt.legend()"
   ]
  }
 ],
 "metadata": {
  "colab": {
   "default_view": {},
   "name": "2_fullyconnected.ipynb",
   "provenance": [],
   "version": "0.3.2",
   "views": {}
  },
  "kernelspec": {
   "display_name": "Python 2.7 (tensorflow)",
   "language": "python",
   "name": "tensorflow"
  },
  "language_info": {
   "codemirror_mode": {
    "name": "ipython",
    "version": 2
   },
   "file_extension": ".py",
   "mimetype": "text/x-python",
   "name": "python",
   "nbconvert_exporter": "python",
   "pygments_lexer": "ipython2",
   "version": "2.7.6"
  }
 },
 "nbformat": 4,
 "nbformat_minor": 0
}
